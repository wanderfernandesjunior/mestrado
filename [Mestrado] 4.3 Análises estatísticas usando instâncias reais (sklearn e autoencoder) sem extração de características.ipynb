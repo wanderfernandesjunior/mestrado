{
 "cells": [
  {
   "cell_type": "markdown",
   "metadata": {},
   "source": [
    "## [Mestrado] 4.3 Análises estatísticas usando instâncias reais (sklearn, autoencoder e autoencoder+lstm) sem extração de características"
   ]
  },
  {
   "cell_type": "markdown",
   "metadata": {},
   "source": [
    "## Bibliotecas e configurações"
   ]
  },
  {
   "cell_type": "code",
   "execution_count": 1,
   "metadata": {
    "scrolled": true
   },
   "outputs": [],
   "source": [
    "# Artifício para alcular tempo total do notebook Jupyter\n",
    "from datetime import datetime \n",
    "start_time = datetime.now()"
   ]
  },
  {
   "cell_type": "code",
   "execution_count": 2,
   "metadata": {
    "scrolled": true,
    "variables": {
     "import datetime;import locale;locale.setlocale(locale.LC_ALL, 'portuguese_brazil');datetime.date.today().strftime('%d de %B de %Y')": "05 de agosto de 2018"
    }
   },
   "outputs": [],
   "source": [
    "import pandas as pd\n",
    "import numpy as np\n",
    "import scikit_posthocs as sp\n",
    "from scipy.stats import friedmanchisquare\n",
    "import warnings\n",
    "warnings.filterwarnings(\"ignore\")"
   ]
  },
  {
   "cell_type": "markdown",
   "metadata": {},
   "source": [
    "A banca de qualificação solicitou que os testes sejam pareados entre si."
   ]
  },
  {
   "cell_type": "code",
   "execution_count": 3,
   "metadata": {},
   "outputs": [
    {
     "data": {
      "text/html": [
       "<div>\n",
       "<style scoped>\n",
       "    .dataframe tbody tr th:only-of-type {\n",
       "        vertical-align: middle;\n",
       "    }\n",
       "\n",
       "    .dataframe tbody tr th {\n",
       "        vertical-align: top;\n",
       "    }\n",
       "\n",
       "    .dataframe thead th {\n",
       "        text-align: right;\n",
       "    }\n",
       "</style>\n",
       "<table border=\"1\" class=\"dataframe\">\n",
       "  <thead>\n",
       "    <tr style=\"text-align: right;\">\n",
       "      <th></th>\n",
       "      <th>PRECISAO</th>\n",
       "      <th>REVOGACAO</th>\n",
       "      <th>F1</th>\n",
       "      <th>TREINAMENTO [s]</th>\n",
       "      <th>TESTE [s]</th>\n",
       "    </tr>\n",
       "    <tr>\n",
       "      <th>CLASSIFICADOR</th>\n",
       "      <th></th>\n",
       "      <th></th>\n",
       "      <th></th>\n",
       "      <th></th>\n",
       "      <th></th>\n",
       "    </tr>\n",
       "  </thead>\n",
       "  <tbody>\n",
       "    <tr>\n",
       "      <th>Local Outlier Factor</th>\n",
       "      <td>0.858796</td>\n",
       "      <td>0.858796</td>\n",
       "      <td>0.858796</td>\n",
       "      <td>0.006446</td>\n",
       "      <td>0.006224</td>\n",
       "    </tr>\n",
       "    <tr>\n",
       "      <th>Envelope Eliptico MCD</th>\n",
       "      <td>0.650463</td>\n",
       "      <td>0.650463</td>\n",
       "      <td>0.650463</td>\n",
       "      <td>11.911614</td>\n",
       "      <td>0.016860</td>\n",
       "    </tr>\n",
       "    <tr>\n",
       "      <th>AutoEncoder LSTM</th>\n",
       "      <td>0.627315</td>\n",
       "      <td>0.627315</td>\n",
       "      <td>0.627315</td>\n",
       "      <td>9.693188</td>\n",
       "      <td>1.448803</td>\n",
       "    </tr>\n",
       "    <tr>\n",
       "      <th>Floresta de Isolamento</th>\n",
       "      <td>0.615741</td>\n",
       "      <td>0.615741</td>\n",
       "      <td>0.615741</td>\n",
       "      <td>0.087819</td>\n",
       "      <td>0.022803</td>\n",
       "    </tr>\n",
       "    <tr>\n",
       "      <th>AutoEncoder</th>\n",
       "      <td>0.578704</td>\n",
       "      <td>0.578704</td>\n",
       "      <td>0.578704</td>\n",
       "      <td>3.239772</td>\n",
       "      <td>0.042441</td>\n",
       "    </tr>\n",
       "    <tr>\n",
       "      <th>One Class SVM</th>\n",
       "      <td>0.550926</td>\n",
       "      <td>0.550926</td>\n",
       "      <td>0.550926</td>\n",
       "      <td>0.006918</td>\n",
       "      <td>0.006889</td>\n",
       "    </tr>\n",
       "    <tr>\n",
       "      <th>Dummy</th>\n",
       "      <td>0.500000</td>\n",
       "      <td>0.500000</td>\n",
       "      <td>0.500000</td>\n",
       "      <td>0.000139</td>\n",
       "      <td>0.000222</td>\n",
       "    </tr>\n",
       "  </tbody>\n",
       "</table>\n",
       "</div>"
      ],
      "text/plain": [
       "                        PRECISAO  REVOGACAO        F1  TREINAMENTO [s]  \\\n",
       "CLASSIFICADOR                                                            \n",
       "Local Outlier Factor    0.858796   0.858796  0.858796         0.006446   \n",
       "Envelope Eliptico MCD   0.650463   0.650463  0.650463        11.911614   \n",
       "AutoEncoder LSTM        0.627315   0.627315  0.627315         9.693188   \n",
       "Floresta de Isolamento  0.615741   0.615741  0.615741         0.087819   \n",
       "AutoEncoder             0.578704   0.578704  0.578704         3.239772   \n",
       "One Class SVM           0.550926   0.550926  0.550926         0.006918   \n",
       "Dummy                   0.500000   0.500000  0.500000         0.000139   \n",
       "\n",
       "                        TESTE [s]   \n",
       "CLASSIFICADOR                       \n",
       "Local Outlier Factor      0.006224  \n",
       "Envelope Eliptico MCD     0.016860  \n",
       "AutoEncoder LSTM          1.448803  \n",
       "Floresta de Isolamento    0.022803  \n",
       "AutoEncoder               0.042441  \n",
       "One Class SVM             0.006889  \n",
       "Dummy                     0.000222  "
      ]
     },
     "execution_count": 3,
     "metadata": {},
     "output_type": "execute_result"
    }
   ],
   "source": [
    "# Médias classificadores Sklearn\n",
    "sklearn_scores = pd.read_csv(r'./results/4-0_anomaly_detection_scores_reais.csv', index_col=0)\n",
    "\n",
    "# Médias classificadores Autoencoder\n",
    "autoencoder_scores = pd.read_csv(r'./results/4-1_anomaly_detection_scores_reais.csv', index_col=0)\n",
    "\n",
    "# Médias classificadores Autoencoder LSTM\n",
    "autoencoder_lstm_scores = pd.read_csv(r'./results/4-2_anomaly_detection_scores_reais.csv', index_col=0)\n",
    "\n",
    "# Agrupa todos os resultados\n",
    "scores = pd.concat([sklearn_scores, autoencoder_scores, autoencoder_lstm_scores])\n",
    "\n",
    "mean_score_table = scores.groupby('CLASSIFICADOR').mean().sort_values(by=['F1'], ascending=False)\n",
    "mean_score_table"
   ]
  },
  {
   "cell_type": "code",
   "execution_count": 4,
   "metadata": {},
   "outputs": [
    {
     "data": {
      "text/plain": [
       "['Local Outlier Factor',\n",
       " 'Envelope Eliptico MCD',\n",
       " 'AutoEncoder LSTM',\n",
       " 'Floresta de Isolamento',\n",
       " 'AutoEncoder',\n",
       " 'One Class SVM',\n",
       " 'Dummy']"
      ]
     },
     "execution_count": 4,
     "metadata": {},
     "output_type": "execute_result"
    }
   ],
   "source": [
    "clfs_names = list(mean_score_table.index)\n",
    "f1s = [scores.loc[scores['CLASSIFICADOR']==cn, 'F1'].values for cn in clfs_names]\n",
    "clfs_names"
   ]
  },
  {
   "cell_type": "code",
   "execution_count": 5,
   "metadata": {},
   "outputs": [
    {
     "name": "stdout",
     "output_type": "stream",
     "text": [
      "p_value: 3.812133787383094e-19\n"
     ]
    }
   ],
   "source": [
    "# Teste Estatístico (Friedman)\n",
    "\n",
    "stat, p_value = friedmanchisquare(*(f1s))\n",
    "print(f'p_value: {p_value}')"
   ]
  },
  {
   "cell_type": "code",
   "execution_count": 6,
   "metadata": {},
   "outputs": [],
   "source": [
    "p_values = sp.posthoc_wilcoxon(f1s, \n",
    "                                 val_col=None, \n",
    "                                 group_col=None, \n",
    "                                 zero_method='wilcox', \n",
    "                                 correction=False, \n",
    "                                 p_adjust='bonferroni', \n",
    "                                 sort=False)\n",
    "\n",
    "p_values.columns = clfs_names\n",
    "p_values.index = clfs_names"
   ]
  },
  {
   "cell_type": "code",
   "execution_count": 7,
   "metadata": {},
   "outputs": [
    {
     "data": {
      "text/html": [
       "<style type=\"text/css\">\n",
       "#T_436e4_ caption {\n",
       "  color: black;\n",
       "  text-align: center;\n",
       "  font-size: 16px;\n",
       "}\n",
       "#T_436e4_row0_col0, #T_436e4_row1_col1, #T_436e4_row1_col2, #T_436e4_row1_col3, #T_436e4_row1_col4, #T_436e4_row1_col5, #T_436e4_row2_col1, #T_436e4_row2_col2, #T_436e4_row2_col3, #T_436e4_row2_col4, #T_436e4_row2_col5, #T_436e4_row3_col1, #T_436e4_row3_col2, #T_436e4_row3_col3, #T_436e4_row3_col4, #T_436e4_row3_col5, #T_436e4_row4_col1, #T_436e4_row4_col2, #T_436e4_row4_col3, #T_436e4_row4_col4, #T_436e4_row4_col5, #T_436e4_row4_col6, #T_436e4_row5_col1, #T_436e4_row5_col2, #T_436e4_row5_col3, #T_436e4_row5_col4, #T_436e4_row5_col5, #T_436e4_row5_col6, #T_436e4_row6_col4, #T_436e4_row6_col5, #T_436e4_row6_col6 {\n",
       "  width: 10em;\n",
       "  text-align: center;\n",
       "  color: gray;\n",
       "}\n",
       "#T_436e4_row0_col1, #T_436e4_row0_col2, #T_436e4_row0_col3, #T_436e4_row0_col4, #T_436e4_row0_col5, #T_436e4_row0_col6, #T_436e4_row1_col0, #T_436e4_row1_col6, #T_436e4_row2_col0, #T_436e4_row2_col6, #T_436e4_row3_col0, #T_436e4_row3_col6, #T_436e4_row4_col0, #T_436e4_row5_col0, #T_436e4_row6_col0, #T_436e4_row6_col1, #T_436e4_row6_col2, #T_436e4_row6_col3 {\n",
       "  width: 10em;\n",
       "  text-align: center;\n",
       "  color: green;\n",
       "}\n",
       "</style>\n",
       "<table id=\"T_436e4_\">\n",
       "  <caption>Valores p dos testes estatísticos Wilcoxon com ajuste de Bonferroni</caption>\n",
       "  <thead>\n",
       "    <tr>\n",
       "      <th class=\"blank level0\" >&nbsp;</th>\n",
       "      <th class=\"col_heading level0 col0\" >Local Outlier Factor</th>\n",
       "      <th class=\"col_heading level0 col1\" >Envelope Eliptico MCD</th>\n",
       "      <th class=\"col_heading level0 col2\" >AutoEncoder LSTM</th>\n",
       "      <th class=\"col_heading level0 col3\" >Floresta de Isolamento</th>\n",
       "      <th class=\"col_heading level0 col4\" >AutoEncoder</th>\n",
       "      <th class=\"col_heading level0 col5\" >One Class SVM</th>\n",
       "      <th class=\"col_heading level0 col6\" >Dummy</th>\n",
       "    </tr>\n",
       "  </thead>\n",
       "  <tbody>\n",
       "    <tr>\n",
       "      <th id=\"T_436e4_level0_row0\" class=\"row_heading level0 row0\" >Local Outlier Factor</th>\n",
       "      <td id=\"T_436e4_row0_col0\" class=\"data row0 col0\" >1.000000</td>\n",
       "      <td id=\"T_436e4_row0_col1\" class=\"data row0 col1\" >0.000016</td>\n",
       "      <td id=\"T_436e4_row0_col2\" class=\"data row0 col2\" >0.000007</td>\n",
       "      <td id=\"T_436e4_row0_col3\" class=\"data row0 col3\" >0.000013</td>\n",
       "      <td id=\"T_436e4_row0_col4\" class=\"data row0 col4\" >0.000007</td>\n",
       "      <td id=\"T_436e4_row0_col5\" class=\"data row0 col5\" >0.000010</td>\n",
       "      <td id=\"T_436e4_row0_col6\" class=\"data row0 col6\" >0.000003</td>\n",
       "    </tr>\n",
       "    <tr>\n",
       "      <th id=\"T_436e4_level0_row1\" class=\"row_heading level0 row1\" >Envelope Eliptico MCD</th>\n",
       "      <td id=\"T_436e4_row1_col0\" class=\"data row1 col0\" >0.000016</td>\n",
       "      <td id=\"T_436e4_row1_col1\" class=\"data row1 col1\" >1.000000</td>\n",
       "      <td id=\"T_436e4_row1_col2\" class=\"data row1 col2\" >1.000000</td>\n",
       "      <td id=\"T_436e4_row1_col3\" class=\"data row1 col3\" >1.000000</td>\n",
       "      <td id=\"T_436e4_row1_col4\" class=\"data row1 col4\" >0.629214</td>\n",
       "      <td id=\"T_436e4_row1_col5\" class=\"data row1 col5\" >0.296349</td>\n",
       "      <td id=\"T_436e4_row1_col6\" class=\"data row1 col6\" >0.000480</td>\n",
       "    </tr>\n",
       "    <tr>\n",
       "      <th id=\"T_436e4_level0_row2\" class=\"row_heading level0 row2\" >AutoEncoder LSTM</th>\n",
       "      <td id=\"T_436e4_row2_col0\" class=\"data row2 col0\" >0.000007</td>\n",
       "      <td id=\"T_436e4_row2_col1\" class=\"data row2 col1\" >1.000000</td>\n",
       "      <td id=\"T_436e4_row2_col2\" class=\"data row2 col2\" >1.000000</td>\n",
       "      <td id=\"T_436e4_row2_col3\" class=\"data row2 col3\" >1.000000</td>\n",
       "      <td id=\"T_436e4_row2_col4\" class=\"data row2 col4\" >0.734375</td>\n",
       "      <td id=\"T_436e4_row2_col5\" class=\"data row2 col5\" >1.000000</td>\n",
       "      <td id=\"T_436e4_row2_col6\" class=\"data row2 col6\" >0.018093</td>\n",
       "    </tr>\n",
       "    <tr>\n",
       "      <th id=\"T_436e4_level0_row3\" class=\"row_heading level0 row3\" >Floresta de Isolamento</th>\n",
       "      <td id=\"T_436e4_row3_col0\" class=\"data row3 col0\" >0.000013</td>\n",
       "      <td id=\"T_436e4_row3_col1\" class=\"data row3 col1\" >1.000000</td>\n",
       "      <td id=\"T_436e4_row3_col2\" class=\"data row3 col2\" >1.000000</td>\n",
       "      <td id=\"T_436e4_row3_col3\" class=\"data row3 col3\" >1.000000</td>\n",
       "      <td id=\"T_436e4_row3_col4\" class=\"data row3 col4\" >1.000000</td>\n",
       "      <td id=\"T_436e4_row3_col5\" class=\"data row3 col5\" >1.000000</td>\n",
       "      <td id=\"T_436e4_row3_col6\" class=\"data row3 col6\" >0.007500</td>\n",
       "    </tr>\n",
       "    <tr>\n",
       "      <th id=\"T_436e4_level0_row4\" class=\"row_heading level0 row4\" >AutoEncoder</th>\n",
       "      <td id=\"T_436e4_row4_col0\" class=\"data row4 col0\" >0.000007</td>\n",
       "      <td id=\"T_436e4_row4_col1\" class=\"data row4 col1\" >0.629214</td>\n",
       "      <td id=\"T_436e4_row4_col2\" class=\"data row4 col2\" >0.734375</td>\n",
       "      <td id=\"T_436e4_row4_col3\" class=\"data row4 col3\" >1.000000</td>\n",
       "      <td id=\"T_436e4_row4_col4\" class=\"data row4 col4\" >1.000000</td>\n",
       "      <td id=\"T_436e4_row4_col5\" class=\"data row4 col5\" >1.000000</td>\n",
       "      <td id=\"T_436e4_row4_col6\" class=\"data row4 col6\" >0.100479</td>\n",
       "    </tr>\n",
       "    <tr>\n",
       "      <th id=\"T_436e4_level0_row5\" class=\"row_heading level0 row5\" >One Class SVM</th>\n",
       "      <td id=\"T_436e4_row5_col0\" class=\"data row5 col0\" >0.000010</td>\n",
       "      <td id=\"T_436e4_row5_col1\" class=\"data row5 col1\" >0.296349</td>\n",
       "      <td id=\"T_436e4_row5_col2\" class=\"data row5 col2\" >1.000000</td>\n",
       "      <td id=\"T_436e4_row5_col3\" class=\"data row5 col3\" >1.000000</td>\n",
       "      <td id=\"T_436e4_row5_col4\" class=\"data row5 col4\" >1.000000</td>\n",
       "      <td id=\"T_436e4_row5_col5\" class=\"data row5 col5\" >1.000000</td>\n",
       "      <td id=\"T_436e4_row5_col6\" class=\"data row5 col6\" >1.000000</td>\n",
       "    </tr>\n",
       "    <tr>\n",
       "      <th id=\"T_436e4_level0_row6\" class=\"row_heading level0 row6\" >Dummy</th>\n",
       "      <td id=\"T_436e4_row6_col0\" class=\"data row6 col0\" >0.000003</td>\n",
       "      <td id=\"T_436e4_row6_col1\" class=\"data row6 col1\" >0.000480</td>\n",
       "      <td id=\"T_436e4_row6_col2\" class=\"data row6 col2\" >0.018093</td>\n",
       "      <td id=\"T_436e4_row6_col3\" class=\"data row6 col3\" >0.007500</td>\n",
       "      <td id=\"T_436e4_row6_col4\" class=\"data row6 col4\" >0.100479</td>\n",
       "      <td id=\"T_436e4_row6_col5\" class=\"data row6 col5\" >1.000000</td>\n",
       "      <td id=\"T_436e4_row6_col6\" class=\"data row6 col6\" >1.000000</td>\n",
       "    </tr>\n",
       "  </tbody>\n",
       "</table>\n"
      ],
      "text/plain": [
       "<pandas.io.formats.style.Styler at 0x182fc499e80>"
      ]
     },
     "execution_count": 7,
     "metadata": {},
     "output_type": "execute_result"
    }
   ],
   "source": [
    "df = pd.DataFrame(p_values)\n",
    "\n",
    "d = dict(selector=\"th\",\n",
    "    props=[('text-align', 'center')])\n",
    "\n",
    "df.style.set_properties(**{'width':'10em', 'text-align':'center'})\\\n",
    "        .set_table_styles([d])\\\n",
    "        .applymap(lambda x: 'color: green' if  x != '-' and x <= 0.05 and x > -1 else 'color: gray')\\\n",
    "        .set_caption(\"Valores p dos testes estatísticos Wilcoxon com ajuste de Bonferroni\").set_table_styles([{\n",
    "            'selector': 'caption',\n",
    "            'props': [\n",
    "                ('color', 'black'),\n",
    "                ('text-align', 'center'),\n",
    "                ('font-size', '16px')\n",
    "            ]\n",
    "        }])"
   ]
  },
  {
   "cell_type": "markdown",
   "metadata": {},
   "source": [
    "## Conclusões"
   ]
  },
  {
   "cell_type": "markdown",
   "metadata": {},
   "source": [
    "Tendo em vista os resultados apresentados acima, podemos afirmar que o classificador \"LOF\" apresenta o melhor desempenho em termos de médias da métrica medida-F1.\n",
    "\n",
    " - O classificador \"LOF\" produz um valor médio de medida-F1 estatisticamente diferente em comparação a todos os demais classificadores."
   ]
  },
  {
   "cell_type": "code",
   "execution_count": 8,
   "metadata": {
    "scrolled": true
   },
   "outputs": [
    {
     "name": "stdout",
     "output_type": "stream",
     "text": [
      "Tempo total de execução (hh:mm:ss.ms): 0:00:01.784604\n"
     ]
    }
   ],
   "source": [
    "# Calcular tempo total do notebook Jupyter\n",
    "print(f'Tempo total de execução (hh:mm:ss.ms): {datetime.now() - start_time}')"
   ]
  }
 ],
 "metadata": {
  "kernelspec": {
   "display_name": "Python 3 (ipykernel)",
   "language": "python",
   "name": "python3"
  },
  "language_info": {
   "codemirror_mode": {
    "name": "ipython",
    "version": 3
   },
   "file_extension": ".py",
   "mimetype": "text/x-python",
   "name": "python",
   "nbconvert_exporter": "python",
   "pygments_lexer": "ipython3",
   "version": "3.8.11"
  },
  "toc": {
   "base_numbering": 1,
   "nav_menu": {},
   "number_sections": false,
   "sideBar": true,
   "skip_h1_title": false,
   "title_cell": "Sumário",
   "title_sidebar": "Sumário",
   "toc_cell": false,
   "toc_position": {
    "height": "calc(100% - 180px)",
    "left": "10px",
    "top": "150px",
    "width": "165px"
   },
   "toc_section_display": true,
   "toc_window_display": false
  }
 },
 "nbformat": 4,
 "nbformat_minor": 4
}
