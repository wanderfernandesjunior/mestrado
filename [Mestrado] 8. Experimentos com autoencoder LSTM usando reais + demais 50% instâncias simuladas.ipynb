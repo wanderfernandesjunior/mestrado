{
 "cells": [
  {
   "cell_type": "markdown",
   "id": "64cf8c06-1e95-4793-8941-97bf13563f74",
   "metadata": {
    "tags": []
   },
   "source": [
    "## [Mestrado] 8. Experimentos com autoencoder LSTM usando reais + demais 50% instâncias simuladas"
   ]
  },
  {
   "cell_type": "markdown",
   "id": "fab0074d-cc81-4507-b65a-aa41441f3735",
   "metadata": {},
   "source": [
    "### Carregamento e tratamento dos dados **simulados e reais** para experimentação:"
   ]
  },
  {
   "cell_type": "code",
   "execution_count": 1,
   "id": "5de5ef2f-c9b9-4291-8627-f66ec794890f",
   "metadata": {},
   "outputs": [],
   "source": [
    "# Artifício para alcular tempo total do notebook Jupyter\n",
    "from datetime import datetime \n",
    "start_time = datetime.now()"
   ]
  },
  {
   "cell_type": "code",
   "execution_count": 2,
   "id": "833c6394-466c-47c3-822a-9391806610e1",
   "metadata": {},
   "outputs": [],
   "source": [
    "# Experimentos para defesa de mestrado (autoencoder com lstm)\n",
    "# Carregamento e tratamento dos dados simulados\n",
    "%matplotlib inline\n",
    "import pandas as pd\n",
    "import numpy as np\n",
    "import logging\n",
    "import warnings\n",
    "import tensorflow as tf\n",
    "from math import ceil\n",
    "from time import time\n",
    "from pathlib import Path\n",
    "from matplotlib import pyplot as plt\n",
    "from sklearn.dummy import DummyClassifier\n",
    "from sklearn import preprocessing\n",
    "from sklearn.utils import shuffle\n",
    "from sklearn.model_selection import ParameterGrid\n",
    "from sklearn.metrics import confusion_matrix\n",
    "from sklearn.metrics import precision_recall_fscore_support\n",
    "from sklearn.neighbors import LocalOutlierFactor\n",
    "from tensorflow.keras.models import Sequential\n",
    "from tensorflow.keras.layers import LSTM, Dropout\n",
    "from tensorflow.keras.layers import Dense\n",
    "from tensorflow.keras.layers import RepeatVector\n",
    "from tensorflow.keras.layers import TimeDistributed\n",
    "from tensorflow.keras.optimizers import Adam\n",
    "\n",
    "warnings.simplefilter(action='ignore')\n",
    "\n",
    "data_path = Path('./', 'data')\n",
    "random_state = 1\n",
    "np.random.seed(random_state)\n",
    "tf.random.set_seed(random_state)\n",
    "events_names = {0: 'Normal',\n",
    "                1: 'Aumento Abrupto de BSW',\n",
    "                2: 'Fechamento Espúrio de DHSV',\n",
    "                3: 'Intermitência Severa',\n",
    "                4: 'Instabilidade de Fluxo',\n",
    "                5: 'Perda Rápida de Produtividade',\n",
    "                6: 'Restrição Rápida em CKP',\n",
    "                7: 'Incrustação em CKP',\n",
    "                8: 'Hidrato em Linha de Produção'\n",
    "               }\n",
    "vars = ['P-PDG',\n",
    "        'P-TPT',\n",
    "        'T-TPT',\n",
    "        'P-MON-CKP',\n",
    "        'T-JUS-CKP',\n",
    "        'P-JUS-CKGL',\n",
    "        'T-JUS-CKGL',\n",
    "        'QGL']\n",
    "columns = ['timestamp'] + vars + ['class'] \n",
    "normal_class_code = 0\n",
    "abnormal_classes_codes = [1, 2, 5, 6, 7, 8]\n",
    "sample_size = 3*60              # Nas observações = segundos\n",
    "min_normal_period_size = 20*60  # Nas observações = segundos\n",
    "split_range = 0.6               # Porcentagem de separação entre treino/teste\n",
    "max_samples_per_period = 15     # limitação por 'segurança'\n",
    "max_nan_percent = 0.1           # Para seleção de variáveis úteis\n",
    "std_vars_min = 0.01             # Para seleção de variáveis úteis\n",
    "disable_progressbar = True      # Para menos saídas no notebook\n",
    "\n",
    "def class_and_file_generator(data_path, real=False, simulated=False, drawn=False):\n",
    "    \"\"\"Gerador de lista contendo número da classe e caminho do arquivo de acordo com a fonte da instância.\"\"\"    \n",
    "    for class_path in data_path.iterdir():\n",
    "        if class_path.is_dir():\n",
    "            class_code = int(class_path.stem)\n",
    "            for instance_path in class_path.iterdir():\n",
    "                if (instance_path.suffix == '.csv'):\n",
    "                    if (simulated and instance_path.stem.startswith('SIMULATED')) or \\\n",
    "                       (drawn and instance_path.stem.startswith('DRAWN')) or \\\n",
    "                       (real and (not instance_path.stem.startswith('SIMULATED')) and \\\n",
    "                       (not instance_path.stem.startswith('DRAWN'))):\n",
    "                        yield class_code, instance_path\n",
    "                        \n",
    "                    \n",
    "def load_instance(instance_path):\n",
    "    \"\"\"Função que carrega cada instância individualmente\"\"\"\n",
    "    try:\n",
    "        well, instance_id = instance_path.stem.split('_')\n",
    "        df = pd.read_csv(instance_path, sep=',', header=0)\n",
    "        assert (df.columns == columns).all(), \\\n",
    "            f'Colunas inválidas no arquivo {str(instance_path)}: {str(df.columns.tolist())}'\n",
    "        return df\n",
    "    except Exception as e:\n",
    "        raise Exception(f'Erro ao ler arquivo {instance_path}: {e}')\n",
    "        \n",
    "def extract_samples(df, class_code):\n",
    "    # Obtém os rótulos das observações e seu conjunto inequívoco\n",
    "    ols = list(df['class'])\n",
    "    set_ols = set()\n",
    "    for ol in ols:\n",
    "        if ol in set_ols or np.isnan(ol):\n",
    "            continue\n",
    "        set_ols.add(int(ol))       \n",
    "    \n",
    "    # Descarta os rótulos das observações e substitui todos os nan por 0\n",
    "    # (requisito da biblioteca tsfresh)\n",
    "    df_vars = df.drop('class', axis=1).fillna(0)  \n",
    "    \n",
    "    # Inicializa objetos que serão retornados\n",
    "    df_samples_train = pd.DataFrame()\n",
    "    df_samples_test = pd.DataFrame()\n",
    "    y_train = []\n",
    "    y_test = []\n",
    "            \n",
    "    # Descubre o número máximo de amostras em períodos normais, transitórios e em regime\n",
    "    # Obtém índices (primeiro e último) sem sobreposição com outros períodos\n",
    "    f_idx = ols.index(normal_class_code)\n",
    "    l_idx = len(ols)-1-ols[::-1].index(normal_class_code)\n",
    "\n",
    "    # Define o número inicial de amostras para o período normal\n",
    "    max_samples_normal = l_idx-f_idx+1-sample_size\n",
    "    if (max_samples_normal) > 0:      \n",
    "        num_normal_samples = min(max_samples_per_period, max_samples_normal)\n",
    "        num_train_samples = int(split_range*num_normal_samples)\n",
    "        num_test_samples = num_normal_samples - num_train_samples    \n",
    "    else:\n",
    "        num_train_samples = 0\n",
    "        num_test_samples = 0\n",
    "    \n",
    "    # Define o número máximo de amostras por período transitório\n",
    "    transient_code = class_code + 100    \n",
    "    if transient_code in set_ols:\n",
    "        # Obtém índices (primeiro e último) com possível sobreposição\n",
    "        # no início do período\n",
    "        f_idx = ols.index(transient_code)\n",
    "        if f_idx-(sample_size-1) > 0:\n",
    "            f_idx = f_idx-(sample_size-1)\n",
    "        else:\n",
    "            f_idx = 0\n",
    "        l_idx = len(ols)-1-ols[::-1].index(transient_code)        \n",
    "        max_transient_samples = l_idx-f_idx+1-sample_size\n",
    "    else:\n",
    "        max_transient_samples = 0            \n",
    "\n",
    "    # Define o número máximo de amostras no período de regime\n",
    "    if class_code in set_ols:\n",
    "        # Obtém índices (primeiro e último) com possível sobreposição \n",
    "        # no início ou fim do período\n",
    "        f_idx = ols.index(class_code)\n",
    "        if f_idx-(sample_size-1) > 0:\n",
    "            f_idx = f_idx-(sample_size-1)\n",
    "        else:\n",
    "            f_idx = 0\n",
    "        l_idx = len(ols)-1-ols[::-1].index(class_code)\n",
    "        if l_idx+(sample_size-1) < len(ols)-1:\n",
    "            l_idx = l_idx+(sample_size-1) \n",
    "        else:\n",
    "            l_idx = len(ols)-1\n",
    "        max_in_regime_samples = l_idx-f_idx+1-sample_size\n",
    "    else:\n",
    "        max_in_regime_samples = 0   \n",
    "        \n",
    "    # Descubre o número adequado de amostras em períodos normais, transitórios e em regime\n",
    "    num_transient_samples = ceil(num_test_samples/2)\n",
    "    num_in_regime_samples = num_test_samples - num_transient_samples\n",
    "    if (max_transient_samples >= num_transient_samples) and \\\n",
    "       (max_in_regime_samples < num_in_regime_samples):\n",
    "        num_in_regime_samples = max_in_regime_samples        \n",
    "        num_transient_samples = min(num_test_samples-num_in_regime_samples, max_transient_samples)\n",
    "    elif (max_transient_samples < num_transient_samples) and \\\n",
    "         (max_in_regime_samples >= num_in_regime_samples):\n",
    "        num_transient_samples = max_transient_samples        \n",
    "        num_in_regime_samples = min(num_test_samples-num_transient_samples, max_in_regime_samples)\n",
    "    elif (max_transient_samples < num_transient_samples) and \\\n",
    "         (max_in_regime_samples < num_in_regime_samples):\n",
    "        num_transient_samples = max_transient_samples\n",
    "        num_in_regime_samples = max_in_regime_samples\n",
    "        num_test_samples = num_transient_samples+num_in_regime_samples\n",
    "    \n",
    "    # Extrai amostras do período normal para treinamento e teste\n",
    "    # Obtém índices (primeiro e último) sem sobreposição com outros períodos\n",
    "    f_idx = ols.index(normal_class_code)\n",
    "    l_idx = len(ols)-1-ols[::-1].index(normal_class_code)\n",
    "    \n",
    "    # Define a etapa correta e extrai amostras\n",
    "    if (num_normal_samples) > 0:  \n",
    "        if num_normal_samples == max_samples_normal:\n",
    "            step_max = 1 \n",
    "        else:\n",
    "            step_max = (max_samples_normal-1) // (max_samples_per_period-1)\n",
    "        step_wanted = sample_size\n",
    "        step = min(step_wanted, step_max)\n",
    "        \n",
    "        # Extrai amostras para treinamento\n",
    "        sample_id = 0\n",
    "        for idx in range(num_train_samples):\n",
    "            f_idx_c = l_idx-sample_size+1-(num_normal_samples-1-idx)*step\n",
    "            l_idx_c = f_idx_c+sample_size\n",
    "            df_sample = df_vars.iloc[f_idx_c:l_idx_c, :]\n",
    "            df_sample.insert(loc=0, column='id', value=sample_id)\n",
    "            df_samples_train = df_samples_train.append(df_sample)\n",
    "            y_train.append(normal_class_code)\n",
    "            sample_id += 1\n",
    "    \n",
    "        # Extrai amostras para teste\n",
    "        sample_id = 0\n",
    "        for idx in range(num_train_samples, num_train_samples+num_test_samples):\n",
    "            f_idx_c = l_idx-sample_size+1-(num_normal_samples-1-idx)*step\n",
    "            l_idx_c = f_idx_c+sample_size\n",
    "            df_sample = df_vars.iloc[f_idx_c:l_idx_c, :]\n",
    "            df_sample.insert(loc=0, column='id', value=sample_id)\n",
    "            df_samples_test = df_samples_test.append(df_sample)\n",
    "            y_test.append(normal_class_code)\n",
    "            sample_id += 1\n",
    "\n",
    "    # Extrai amostras do período transitório (se existir) para teste\n",
    "    if (num_transient_samples) > 0:    \n",
    "        # Define a etapa correta e extrai amostras\n",
    "        if num_transient_samples == max_transient_samples:\n",
    "            step_max = 1 \n",
    "        else:\n",
    "            step_max = (max_transient_samples-1) // (max_samples_per_period-1)\n",
    "        step_wanted = np.inf\n",
    "        step = min(step_wanted, step_max)\n",
    "        \n",
    "        # Obtém índices (primeiro e último) com possível sobreposição no início deste período\n",
    "        f_idx = ols.index(transient_code)\n",
    "        if f_idx-(sample_size-1) > 0:\n",
    "            f_idx = f_idx-(sample_size-1)\n",
    "        else:\n",
    "            f_idx = 0\n",
    "        l_idx = len(ols)-1-ols[::-1].index(transient_code) \n",
    "\n",
    "        # Extrai amostras\n",
    "        for idx in range(num_transient_samples):\n",
    "            f_idx_c = f_idx+idx*step\n",
    "            l_idx_c = f_idx_c+sample_size\n",
    "            df_sample = df_vars.iloc[f_idx_c:l_idx_c, :]\n",
    "            df_sample.insert(loc=0, column='id', value=sample_id)\n",
    "            df_samples_test = df_samples_test.append(df_sample)\n",
    "            y_test.append(transient_code)\n",
    "            sample_id += 1\n",
    "            \n",
    "    # Extrai amostras do período em regime (se existir) para teste\n",
    "    if (num_in_regime_samples) > 0:     \n",
    "        # Define a etapa correta e extrai amostras\n",
    "        if num_in_regime_samples == max_in_regime_samples:\n",
    "            step_max = 1 \n",
    "        else:\n",
    "            step_max = (max_in_regime_samples-1) // (max_samples_per_period-1)\n",
    "        step_wanted = sample_size\n",
    "        step = min(step_wanted, step_max)\n",
    "        \n",
    "        # Obtém índices (primeiro e último) com possível sobreposição \n",
    "        # no início ou no final deste período\n",
    "        f_idx = ols.index(class_code)\n",
    "        if f_idx-(sample_size-1) > 0:\n",
    "            f_idx = f_idx-(sample_size-1)\n",
    "        else:\n",
    "            f_idx = 0\n",
    "        l_idx = len(ols)-1-ols[::-1].index(class_code)\n",
    "        if l_idx+(sample_size-1) < len(ols)-1:\n",
    "            l_idx = l_idx+(sample_size-1) \n",
    "        else:\n",
    "            l_idx = len(ols)-1\n",
    "\n",
    "        # Extrai amostras\n",
    "        for idx in range(num_in_regime_samples):\n",
    "            f_idx_c = f_idx+idx*step\n",
    "            l_idx_c = f_idx_c+sample_size\n",
    "            df_sample = df_vars.iloc[f_idx_c:l_idx_c, :]\n",
    "            df_sample.insert(loc=0, column='id', value=sample_id)\n",
    "            df_samples_test = df_samples_test.append(df_sample)\n",
    "            y_test.append(class_code)\n",
    "            sample_id += 1\n",
    "\n",
    "    return df_samples_train, y_train, df_samples_test, y_test"
   ]
  },
  {
   "cell_type": "code",
   "execution_count": 3,
   "id": "a5c6435e",
   "metadata": {},
   "outputs": [],
   "source": [
    "# Gets all simulated instances but maintains only those with any type of undesirable event\n",
    "simulated_instances = pd.DataFrame(class_and_file_generator(data_path, \n",
    "                                                       real=False,\n",
    "                                                       simulated=True, \n",
    "                                                       drawn=False),\n",
    "                              columns=['class_code', 'instance_path'])\n",
    "simulated_instances = simulated_instances.loc[simulated_instances.iloc[:,0].isin(abnormal_classes_codes)].reset_index(drop=True)\n",
    "\n",
    "X_train_simuladas_unificado = pd.DataFrame()\n",
    "y_train_simuladas_unificado = np.array([])\n",
    "X_test_simuladas_unificado = pd.DataFrame()    \n",
    "y_test_simuladas_unificado = np.array([])\n",
    "\n",
    "# For each instance with any type of undesirable event\n",
    "ignored_instances = 0\n",
    "used_instances = 0\n",
    "\n",
    "# Loop por todas as instâncias para capturar as observações\n",
    "for i, row in simulated_instances.iterrows():\n",
    "    # Loads the current instance\n",
    "    class_code, instance_path = row\n",
    "    #print(f'Instância {i+1}: {instance_path}')\n",
    "    df = load_instance(instance_path)\n",
    "    \n",
    "    # Ignores instances without sufficient normal periods\n",
    "    normal_period_size = (df['class']==float(normal_class_code)).sum()\n",
    "    if normal_period_size < min_normal_period_size:\n",
    "        ignored_instances += 1\n",
    "        #print(f'\\tignorado porque normal_period_size é insuficiente para treinamento ({normal_period_size})\\n')\n",
    "        continue\n",
    "    used_instances += 1\n",
    "        \n",
    "    # Extracts samples from the current real instance\n",
    "    ret = extract_samples(df, class_code)\n",
    "    df_samples_train, y_train, df_samples_test, y_test = ret\n",
    "    \n",
    "    y_train = np.array(y_train)\n",
    "    y_test = np.array(y_test)\n",
    "    \n",
    "    # As observações normais com label 1 e as anomalias com label -1\n",
    "    y_train[y_train!=normal_class_code] = '-1'\n",
    "    y_train[y_train==normal_class_code] = '1'\n",
    "    y_test[y_test!=normal_class_code] = '-1'\n",
    "    y_test[y_test==normal_class_code] = '1'\n",
    "    \n",
    "    \"\"\"\n",
    "    # Drops the bad vars\n",
    "    good_vars = np.isnan(df_samples_train[vars]).mean(0) <= max_nan_percent\n",
    "    std_vars = np.nanstd(df_samples_train[vars], 0)\n",
    "    good_vars &= (std_vars > std_vars_min)    \n",
    "    good_vars = list(good_vars.index[good_vars])\n",
    "    bad_vars = list(set(vars)-set(good_vars))\n",
    "    df_samples_train.drop(columns=bad_vars, inplace=True, errors='ignore')\n",
    "    df_samples_test.drop(columns=bad_vars, inplace=True, errors='ignore')\n",
    "    \"\"\"\n",
    "    \n",
    "    # Normalizes the samples (zero mean and unit variance)\n",
    "    scaler = preprocessing.StandardScaler()\n",
    "    df_samples_train[vars] = scaler.fit_transform(df_samples_train[vars]).astype('float32')\n",
    "    df_samples_test[vars] = scaler.transform(df_samples_test[vars]).astype('float32')\n",
    "    \n",
    "    # Remove a coluna timestamp (não é usada como entrada nos classificadores)\n",
    "    df_samples_train = df_samples_train.drop('timestamp', 1)\n",
    "    df_samples_test = df_samples_test.drop('timestamp', 1)\n",
    "    \n",
    "    # Rearranja o dataframe df_samples_train para que as variáveis estejam em linha\n",
    "    df_samples_train_ajustado = (\n",
    "        df_samples_train.pivot_table(values=None, \n",
    "                                     index='id', \n",
    "                                     columns=df_samples_train.groupby('id').cumcount() + 1, \n",
    "                                     aggfunc='first')\n",
    "        .reset_index()\n",
    "        )\n",
    "    \n",
    "    # Rearranja o dataframe df_samples_test para que as variáveis estejam em linha\n",
    "    df_samples_test_ajustado = (\n",
    "        df_samples_test.pivot_table(values=None, \n",
    "                                     index='id', \n",
    "                                     columns=df_samples_test.groupby('id').cumcount() + 1, \n",
    "                                     aggfunc='first')\n",
    "        .reset_index()\n",
    "        )\n",
    "    \n",
    "    X_train = df_samples_train_ajustado\n",
    "    X_test = df_samples_test_ajustado\n",
    "    \n",
    "    # Agrupa as observacoes de cada instancia em dataframe unificado\n",
    "    X_train_simuladas_unificado = X_train_simuladas_unificado.append(df_samples_train_ajustado)\n",
    "    y_train_simuladas_unificado = np.concatenate((y_train_simuladas_unificado, y_train), axis=None)\n",
    "    X_test_simuladas_unificado = X_test_simuladas_unificado.append(df_samples_test_ajustado)     \n",
    "    y_test_simuladas_unificado = np.concatenate((y_test_simuladas_unificado, y_test), axis=None)\n",
    "    \n",
    "\n",
    "# Ajustes para completar valores faltantes com zero e remover os multiindexes criados\n",
    "X_train_simuladas_unificado = X_train_simuladas_unificado.replace(np.nan, 0)\n",
    "X_test_simuladas_unificado = X_test_simuladas_unificado.replace(np.nan, 0)\n",
    "\n",
    "X_train_simuladas_unificado.drop('id',  axis='columns', inplace=True)\n",
    "X_test_simuladas_unificado.drop('id',  axis='columns', inplace=True)\n",
    "\n",
    "X_train_simuladas_unificado = X_train_simuladas_unificado.droplevel(0, axis=1)\n",
    "X_test_simuladas_unificado = X_test_simuladas_unificado.droplevel(0, axis=1)\n",
    "\n",
    "X_train_simuladas_unificado = X_train_simuladas_unificado.T.reset_index(drop=True).T\n",
    "X_test_simuladas_unificado = X_test_simuladas_unificado.T.reset_index(drop=True).T\n",
    "\n",
    "X_train_simuladas_unificado.reset_index(inplace=True, drop=True)\n",
    "X_test_simuladas_unificado.reset_index(inplace=True, drop=True)\n",
    "\n",
    "# Reshape dos dados para formato de entrada da rede LSTM\n",
    "# que é um array 3D no formato (observações, timesteps, features)\n",
    "X_train_simuladas_unificado = X_train_simuladas_unificado.values.reshape(X_train_simuladas_unificado.shape[0], 180, X_train_simuladas_unificado.shape[1] // 180, order='F')\n",
    "X_test_simuladas_unificado = X_test_simuladas_unificado.values.reshape(X_test_simuladas_unificado.shape[0], 180, X_test_simuladas_unificado.shape[1] // 180, order='F')\n",
    "\n",
    "# Shuffle no dataset para misturar as classes de anomalias\n",
    "X_train_simuladas_unificado, y_train_simuladas_unificado = shuffle(X_train_simuladas_unificado, y_train_simuladas_unificado, random_state=random_state)\n",
    "X_test_simuladas_unificado, y_test_simuladas_unificado = shuffle(X_test_simuladas_unificado, y_test_simuladas_unificado, random_state=random_state)"
   ]
  },
  {
   "cell_type": "code",
   "execution_count": 4,
   "id": "eb17b852",
   "metadata": {},
   "outputs": [],
   "source": [
    "# Gets all real instances but maintains only those with any type of undesirable event\n",
    "real_instances = pd.DataFrame(class_and_file_generator(data_path, \n",
    "                                                       real=True,\n",
    "                                                       simulated=False, \n",
    "                                                       drawn=False),\n",
    "                              columns=['class_code', 'instance_path'])\n",
    "real_instances = real_instances.loc[real_instances.iloc[:,0].isin(abnormal_classes_codes)].reset_index(drop=True)\n",
    "\n",
    "\n",
    "X_train_reais_unificado = pd.DataFrame()\n",
    "y_train_reais_unificado = np.array([])\n",
    "X_test_reais_unificado = pd.DataFrame()    \n",
    "y_test_reais_unificado = np.array([])\n",
    "\n",
    "# For each instance with any type of undesirable event\n",
    "ignored_instances = 0\n",
    "used_instances = 0\n",
    "\n",
    "# Loop por todas as instâncias para capturar as observações\n",
    "for i, row in real_instances.iterrows():\n",
    "    # Loads the current instance\n",
    "    class_code, instance_path = row\n",
    "    #print(f'Instância {i+1}: {instance_path}')\n",
    "    df = load_instance(instance_path)\n",
    "    \n",
    "    # Ignores instances without sufficient normal periods\n",
    "    normal_period_size = (df['class']==float(normal_class_code)).sum()\n",
    "    if normal_period_size < min_normal_period_size:\n",
    "        ignored_instances += 1\n",
    "        #print(f'\\tignorado porque normal_period_size é insuficiente para treinamento ({normal_period_size})\\n')\n",
    "        continue\n",
    "    used_instances += 1\n",
    "        \n",
    "    # Extracts samples from the current real instance\n",
    "    ret = extract_samples(df, class_code)\n",
    "    df_samples_train, y_train, df_samples_test, y_test = ret\n",
    "    \n",
    "    y_train = np.array(y_train)\n",
    "    y_test = np.array(y_test)\n",
    "    \n",
    "    # As observações normais com label 1 e as anomalias com label -1\n",
    "    y_train[y_train!=normal_class_code] = '-1'\n",
    "    y_train[y_train==normal_class_code] = '1'\n",
    "    y_test[y_test!=normal_class_code] = '-1'\n",
    "    y_test[y_test==normal_class_code] = '1'\n",
    "    \n",
    "    \"\"\"\n",
    "    # Drops the bad vars\n",
    "    good_vars = np.isnan(df_samples_train[vars]).mean(0) <= max_nan_percent\n",
    "    std_vars = np.nanstd(df_samples_train[vars], 0)\n",
    "    good_vars &= (std_vars > std_vars_min)    \n",
    "    good_vars = list(good_vars.index[good_vars])\n",
    "    bad_vars = list(set(vars)-set(good_vars))\n",
    "    df_samples_train.drop(columns=bad_vars, inplace=True, errors='ignore')\n",
    "    df_samples_test.drop(columns=bad_vars, inplace=True, errors='ignore')\n",
    "    \"\"\"\n",
    "    # Normalizes the samples (zero mean and unit variance)\n",
    "    scaler = preprocessing.StandardScaler()\n",
    "    df_samples_train[vars] = scaler.fit_transform(df_samples_train[vars]).astype('float32')\n",
    "    df_samples_test[vars] = scaler.transform(df_samples_test[vars]).astype('float32')\n",
    "    \n",
    "    # Remove a coluna timestamp (não é usada como entrada nos classificadores)\n",
    "    df_samples_train = df_samples_train.drop('timestamp', 1)\n",
    "    df_samples_test = df_samples_test.drop('timestamp', 1)\n",
    "    \n",
    "    # Rearranja o dataframe df_samples_train para que as variáveis estejam em linha\n",
    "    df_samples_train_ajustado = (\n",
    "        df_samples_train.pivot_table(values=None, \n",
    "                                     index='id', \n",
    "                                     columns=df_samples_train.groupby('id').cumcount() + 1, \n",
    "                                     aggfunc='first')\n",
    "        .reset_index()\n",
    "        )\n",
    "    \n",
    "    # Rearranja o dataframe df_samples_test para que as variáveis estejam em linha\n",
    "    df_samples_test_ajustado = (\n",
    "        df_samples_test.pivot_table(values=None, \n",
    "                                     index='id', \n",
    "                                     columns=df_samples_test.groupby('id').cumcount() + 1, \n",
    "                                     aggfunc='first')\n",
    "        .reset_index()\n",
    "        )\n",
    "    \n",
    "    X_train = df_samples_train_ajustado\n",
    "    X_test = df_samples_test_ajustado\n",
    "    \n",
    "    # Agrupa as observacoes de cada instancia em dataframe unificado\n",
    "    X_train_reais_unificado = X_train_reais_unificado.append(df_samples_train_ajustado)\n",
    "    y_train_reais_unificado = np.concatenate((y_train_reais_unificado, y_train), axis=None)\n",
    "    X_test_reais_unificado = X_test_reais_unificado.append(df_samples_test_ajustado)     \n",
    "    y_test_reais_unificado = np.concatenate((y_test_reais_unificado, y_test), axis=None)\n",
    "    \n",
    "\n",
    "# Ajustes para completar valores faltantes com zero e remover os multiindexes criados\n",
    "X_train_reais_unificado = X_train_reais_unificado.replace(np.nan, 0)\n",
    "X_test_reais_unificado = X_test_reais_unificado.replace(np.nan, 0)\n",
    "\n",
    "X_train_reais_unificado.drop('id',  axis='columns', inplace=True)\n",
    "X_test_reais_unificado.drop('id',  axis='columns', inplace=True)\n",
    "\n",
    "X_train_reais_unificado = X_train_reais_unificado.droplevel(0, axis=1)\n",
    "X_test_reais_unificado = X_test_reais_unificado.droplevel(0, axis=1)\n",
    "\n",
    "X_train_reais_unificado = X_train_reais_unificado.T.reset_index(drop=True).T\n",
    "X_test_reais_unificado = X_test_reais_unificado.T.reset_index(drop=True).T\n",
    "\n",
    "X_train_reais_unificado.reset_index(inplace=True, drop=True)\n",
    "X_test_reais_unificado.reset_index(inplace=True, drop=True)\n",
    "\n",
    "# Reshape dos dados para formato de entrada da rede LSTM\n",
    "# que é um array 3D no formato (observações, timesteps, features)\n",
    "X_train_reais_unificado = X_train_reais_unificado.values.reshape(X_train_reais_unificado.shape[0], 180, X_train_reais_unificado.shape[1] // 180, order='F')\n",
    "X_test_reais_unificado = X_test_reais_unificado.values.reshape(X_test_reais_unificado.shape[0], 180, X_test_reais_unificado.shape[1] // 180, order='F')\n",
    "\n",
    "# Shuffle no dataset para misturar as classes de anomalias\n",
    "X_train_reais_unificado, y_train_reais_unificado = shuffle(X_train_reais_unificado, y_train_reais_unificado, random_state=random_state)\n",
    "X_test_reais_unificado, y_test_reais_unificado = shuffle(X_test_reais_unificado, y_test_reais_unificado, random_state=random_state)"
   ]
  },
  {
   "cell_type": "markdown",
   "id": "897e1a80",
   "metadata": {},
   "source": [
    "### Aplicação do classificador escolhido nas instâncias reais (somente)"
   ]
  },
  {
   "cell_type": "code",
   "execution_count": 5,
   "id": "7a28978d",
   "metadata": {},
   "outputs": [
    {
     "data": {
      "image/png": "[encoded data removed]",
      "text/plain": [
       "<Figure size 432x288 with 1 Axes>"
      ]
     },
     "metadata": {
      "needs_background": "light"
     },
     "output_type": "display_data"
    },
    {
     "name": "stdout",
     "output_type": "stream",
     "text": [
      "mean_trainMAE: 0.3649713099002838\n"
     ]
    },
    {
     "data": {
      "image/png": "[encoded data removed]",
      "text/plain": [
       "<Figure size 432x288 with 1 Axes>"
      ]
     },
     "metadata": {
      "needs_background": "light"
     },
     "output_type": "display_data"
    },
    {
     "name": "stdout",
     "output_type": "stream",
     "text": [
      "max_trainMAE: \t 1.1210131645202637\n"
     ]
    },
    {
     "data": {
      "image/png": "[encoded data removed]",
      "text/plain": [
       "<Figure size 432x288 with 1 Axes>"
      ]
     },
     "metadata": {
      "needs_background": "light"
     },
     "output_type": "display_data"
    },
    {
     "name": "stdout",
     "output_type": "stream",
     "text": [
      "\n",
      "MEDIDA F1 Autoencoder (somente reais): 0.815\n",
      "\n",
      "\n",
      "MEDIDA F1 LOF (somente reais): 0.500\n",
      "\n"
     ]
    }
   ],
   "source": [
    "# Simula a rede neural com melhores parâmetros com os dados reais (somente)\n",
    "lstm_encoder = Sequential([\n",
    "    LSTM(32, return_sequences=True, input_shape=(X_train_reais_unificado.shape[1], X_train_reais_unificado.shape[2])),\n",
    "    Dropout(rate=0),\n",
    "    LSTM(16, return_sequences=False),\n",
    "    Dropout(rate=0),\n",
    "], name='encoder')\n",
    "lstm_decoder = Sequential([\n",
    "    RepeatVector(X_train_reais_unificado.shape[1]),\n",
    "    LSTM(16, return_sequences=True),\n",
    "    Dropout(rate=0),\n",
    "    LSTM(32, return_sequences=True),\n",
    "    Dropout(rate=0),\n",
    "    TimeDistributed(Dense(X_train_reais_unificado.shape[2]))    \n",
    "], name='decoder')\n",
    "model_reais = Sequential([lstm_encoder, lstm_decoder])\n",
    "model_reais.compile(optimizer=Adam(learning_rate=0.0001), loss='mae')\n",
    "history = model_reais.fit(X_train_reais_unificado, X_train_reais_unificado, epochs=100, batch_size=32, validation_split=0.4, verbose=0)\n",
    "\n",
    "\n",
    "# Gráfico de train e validation loss\n",
    "fig1, ax1 = plt.subplots()\n",
    "ax1.set_title(f'Training e Validation loss (somente reais)')\n",
    "ax1.plot(history.history['loss'], label=f'Training loss')\n",
    "ax1.plot(history.history['val_loss'], label=f'Validation loss')\n",
    "ax1.legend()\n",
    "plt.show()\n",
    "\n",
    "trainPredict = model_reais.predict(X_train_reais_unificado)\n",
    "trainMAE = np.mean(np.mean(np.abs(trainPredict - X_train_reais_unificado), axis=1), axis=1)\n",
    "mean_trainMAE = np.mean(trainMAE)\n",
    "print(f'mean_trainMAE: {mean_trainMAE}')\n",
    "\n",
    "fig2, ax2 = plt.subplots()\n",
    "ax2.set_title(f'trainMAE')\n",
    "ax2.hist(trainMAE)\n",
    "plt.show()\n",
    "\n",
    "max_trainMAE = np.max(trainMAE)\n",
    "print(f'max_trainMAE: \\t {max_trainMAE}')\n",
    "\n",
    "testPredict = model_reais.predict(X_test_reais_unificado)\n",
    "testMAE = np.mean(np.mean(np.abs(testPredict - X_test_reais_unificado), axis=1), axis=1)\n",
    "\n",
    "fig3, ax3 = plt.subplots()\n",
    "ax3.set_title(f'testMAE')\n",
    "#Para o histograma, todos os valores maiores que 10 setei como 10 para melhor visualização\n",
    "testMAE_visualizacao = testMAE\n",
    "testMAE_visualizacao[testMAE_visualizacao > 10] = 10\n",
    "ax3.hist(testMAE_visualizacao)\n",
    "plt.show()\n",
    "\n",
    "# Será considerada anomalia aquela observação cujo erro de reconstrução seja \n",
    "# acima de um valor especificado como gatilho (usado max_trainMAE)\n",
    "y_pred = pd.DataFrame((testMAE >= max_trainMAE)).replace({True:-1,False:1})\n",
    "\n",
    "# Calcula as metricas de desempenho\n",
    "p, r, f1, _ = precision_recall_fscore_support(y_test_reais_unificado, y_pred, average='micro')\n",
    "print(f'\\nMEDIDA F1 Autoencoder (somente reais): {f1:.3f}\\n')\n",
    "\n",
    "\n",
    "# Testa o LOF nos melhores parametros calculados\n",
    "encoder = model_reais.get_layer(\"encoder\")\n",
    "X_train_reais_unificado_encoded = encoder.predict(X_train_reais_unificado)\n",
    "X_test_reais_unificado_encoded = encoder.predict(X_test_reais_unificado)\n",
    "\n",
    "lof_clf_reais = LocalOutlierFactor(algorithm='auto', contamination='auto', \n",
    "                             metric='hamming', n_neighbors= 5, \n",
    "                             novelty= True)\n",
    "lof_clf_reais.fit(X_train_reais_unificado_encoded)\n",
    "y_pred = lof_clf_reais.predict(X_test_reais_unificado_encoded)\n",
    "p, r, f1, _ = precision_recall_fscore_support(y_test_reais_unificado, y_pred, average='micro')\n",
    "print(f'\\nMEDIDA F1 LOF (somente reais): {f1:.3f}\\n')"
   ]
  },
  {
   "cell_type": "markdown",
   "id": "814cea87",
   "metadata": {},
   "source": [
    "### Aplicação do classificador escolhido nas instâncias reais + demais simuladas (10%)"
   ]
  },
  {
   "cell_type": "code",
   "execution_count": 6,
   "id": "70d77f13",
   "metadata": {},
   "outputs": [
    {
     "data": {
      "image/png": "[encoded data removed]",
      "text/plain": [
       "<Figure size 432x288 with 1 Axes>"
      ]
     },
     "metadata": {
      "needs_background": "light"
     },
     "output_type": "display_data"
    },
    {
     "name": "stdout",
     "output_type": "stream",
     "text": [
      "mean_trainMAE: 0.2849009335041046\n"
     ]
    },
    {
     "data": {
      "image/png": "[encoded data removed]",
      "text/plain": [
       "<Figure size 432x288 with 1 Axes>"
      ]
     },
     "metadata": {
      "needs_background": "light"
     },
     "output_type": "display_data"
    },
    {
     "name": "stdout",
     "output_type": "stream",
     "text": [
      "max_trainMAE: \t 0.9336584806442261\n"
     ]
    },
    {
     "data": {
      "image/png": "[encoded data removed]",
      "text/plain": [
       "<Figure size 432x288 with 1 Axes>"
      ]
     },
     "metadata": {
      "needs_background": "light"
     },
     "output_type": "display_data"
    },
    {
     "name": "stdout",
     "output_type": "stream",
     "text": [
      "\n",
      "MEDIDA F1 Autoencoder (reais + 10% simuladas): 0.852\n",
      "\n",
      "\n",
      "MEDIDA F1 LOF (reais + 10% simuladas): 0.499\n",
      "\n"
     ]
    }
   ],
   "source": [
    "# Concatena reais mais 10% das demais instâncias simuladas\n",
    "X_train_reais_simuladas_10 = np.concatenate([X_train_reais_unificado, X_train_simuladas_unificado[ceil(0.5*len(X_train_simuladas_unificado)):ceil(0.6*len(X_train_simuladas_unificado)), :, :]])\n",
    "X_test_reais_simuladas_10 = np.concatenate([X_test_reais_unificado, X_test_simuladas_unificado[ceil(0.5*len(X_test_simuladas_unificado)):ceil(0.6*len(X_test_simuladas_unificado)), :, :]])\n",
    "y_train_reais_simuladas_10 = np.concatenate([y_train_reais_unificado, y_train_simuladas_unificado[ceil(0.5*len(y_train_simuladas_unificado)):ceil(0.6*len(y_train_simuladas_unificado))]])\n",
    "y_test_reais_simuladas_10 = np.concatenate([y_test_reais_unificado, y_test_simuladas_unificado[ceil(0.5*len(y_test_simuladas_unificado)):ceil(0.6*len(y_test_simuladas_unificado))]])\n",
    "\n",
    "lstm_encoder = Sequential([\n",
    "    LSTM(32, return_sequences=True, input_shape=(X_train_reais_simuladas_10.shape[1], X_train_reais_simuladas_10.shape[2])),\n",
    "    Dropout(rate=0),\n",
    "    LSTM(16, return_sequences=False),\n",
    "    Dropout(rate=0),\n",
    "], name='encoder')\n",
    "lstm_decoder = Sequential([\n",
    "    RepeatVector(X_train_reais_unificado.shape[1]),\n",
    "    LSTM(16, return_sequences=True),\n",
    "    Dropout(rate=0),\n",
    "    LSTM(32, return_sequences=True),\n",
    "    Dropout(rate=0),\n",
    "    TimeDistributed(Dense(X_train_reais_simuladas_10.shape[2]))    \n",
    "], name='decoder')\n",
    "model_reais_simuladas_10 = Sequential([lstm_encoder, lstm_decoder])\n",
    "model_reais_simuladas_10.compile(optimizer=Adam(learning_rate=0.0001), loss='mae')\n",
    "history_reais_simuladas_10 = model_reais_simuladas_10.fit(X_train_reais_simuladas_10, X_train_reais_simuladas_10, epochs=100, batch_size=32, validation_split=0.4, verbose=0)\n",
    "\n",
    "# Gráfico de train e validation loss\n",
    "fig1, ax1 = plt.subplots()\n",
    "ax1.set_title(f'Training e Validation loss (somente reais)')\n",
    "ax1.plot(history_reais_simuladas_10.history['loss'], label=f'Training loss')\n",
    "ax1.plot(history_reais_simuladas_10.history['val_loss'], label=f'Validation loss')\n",
    "ax1.legend()\n",
    "plt.show()\n",
    "\n",
    "trainPredict = model_reais_simuladas_10.predict(X_train_reais_simuladas_10)\n",
    "trainMAE = np.mean(np.mean(np.abs(trainPredict - X_train_reais_simuladas_10), axis=1), axis=1)\n",
    "mean_trainMAE = np.mean(trainMAE)\n",
    "print(f'mean_trainMAE: {mean_trainMAE}')\n",
    "\n",
    "fig2, ax2 = plt.subplots()\n",
    "ax2.set_title(f'trainMAE')\n",
    "ax2.hist(trainMAE)\n",
    "plt.show()\n",
    "\n",
    "max_trainMAE = np.max(trainMAE)\n",
    "print(f'max_trainMAE: \\t {max_trainMAE}')\n",
    "\n",
    "testPredict = model_reais_simuladas_10.predict(X_test_reais_simuladas_10)\n",
    "testMAE = np.mean(np.mean(np.abs(testPredict - X_test_reais_simuladas_10), axis=1), axis=1)\n",
    "\n",
    "fig3, ax3 = plt.subplots()\n",
    "ax3.set_title(f'testMAE')\n",
    "#Para o histograma, todos os valores maiores que 10 setei como 10 para melhor visualização\n",
    "testMAE_visualizacao = testMAE\n",
    "testMAE_visualizacao[testMAE_visualizacao > 10] = 10\n",
    "ax3.hist(testMAE_visualizacao)\n",
    "plt.show()\n",
    "\n",
    "# Será considerada anomalia aquela observação cujo erro de reconstrução seja \n",
    "# acima de um valor especificado como gatilho (usado max_trainMAE)\n",
    "y_pred = pd.DataFrame((testMAE >= max_trainMAE)).replace({True:-1,False:1})\n",
    "\n",
    "# Calcula as metricas de desempenho\n",
    "p, r, f1, _ = precision_recall_fscore_support(y_test_reais_simuladas_10, y_pred, average='micro')\n",
    "print(f'\\nMEDIDA F1 Autoencoder (reais + 10% simuladas): {f1:.3f}\\n')\n",
    "\n",
    "# Testa o LOF nos melhores parametros calculados\n",
    "encoder = model_reais_simuladas_10.get_layer(\"encoder\")\n",
    "X_train_reais_simuladas_10_encoded = encoder.predict(X_train_reais_simuladas_10)\n",
    "X_test_reais_simuladas_10_encoded = encoder.predict(X_test_reais_simuladas_10)\n",
    "\n",
    "lof_clf_reais_simuladas_10 = LocalOutlierFactor(algorithm='auto', contamination='auto', \n",
    "                             metric='hamming', n_neighbors= 5, \n",
    "                             novelty= True)\n",
    "lof_clf_reais_simuladas_10.fit(X_train_reais_simuladas_10_encoded)\n",
    "y_pred = lof_clf_reais_simuladas_10.predict(X_test_reais_simuladas_10_encoded)\n",
    "p, r, f1, _ = precision_recall_fscore_support(y_test_reais_simuladas_10, y_pred, average='micro')\n",
    "print(f'\\nMEDIDA F1 LOF (reais + 10% simuladas): {f1:.3f}\\n')"
   ]
  },
  {
   "cell_type": "markdown",
   "id": "5689fc30",
   "metadata": {},
   "source": [
    "### Aplicação do classificador escolhido nas instâncias reais + demais simuladas (20%)"
   ]
  },
  {
   "cell_type": "code",
   "execution_count": 7,
   "id": "0e66360a",
   "metadata": {},
   "outputs": [
    {
     "data": {
      "image/png": "[encoded data removed]",
      "text/plain": [
       "<Figure size 432x288 with 1 Axes>"
      ]
     },
     "metadata": {
      "needs_background": "light"
     },
     "output_type": "display_data"
    },
    {
     "name": "stdout",
     "output_type": "stream",
     "text": [
      "mean_trainMAE: 0.24004164338111877\n"
     ]
    },
    {
     "data": {
      "image/png": "[encoded data removed]",
      "text/plain": [
       "<Figure size 432x288 with 1 Axes>"
      ]
     },
     "metadata": {
      "needs_background": "light"
     },
     "output_type": "display_data"
    },
    {
     "name": "stdout",
     "output_type": "stream",
     "text": [
      "max_trainMAE: \t 0.8652259111404419\n"
     ]
    },
    {
     "data": {
      "image/png": "[encoded data removed]",
      "text/plain": [
       "<Figure size 432x288 with 1 Axes>"
      ]
     },
     "metadata": {
      "needs_background": "light"
     },
     "output_type": "display_data"
    },
    {
     "name": "stdout",
     "output_type": "stream",
     "text": [
      "\n",
      "MEDIDA F1 Autoencoder (reais + 20% simuladas): 0.868\n",
      "\n",
      "\n",
      "MEDIDA F1 LOF (reais + 20% simuladas): 0.495\n",
      "\n"
     ]
    }
   ],
   "source": [
    "# Concatena reais mais 20% das demais instâncias simuladas\n",
    "X_train_reais_simuladas_20 = np.concatenate([X_train_reais_unificado, X_train_simuladas_unificado[ceil(0.5*len(X_train_simuladas_unificado)):ceil(0.7*len(X_train_simuladas_unificado)), :, :]])\n",
    "X_test_reais_simuladas_20 = np.concatenate([X_test_reais_unificado, X_test_simuladas_unificado[ceil(0.5*len(X_test_simuladas_unificado)):ceil(0.7*len(X_test_simuladas_unificado)), :, :]])\n",
    "y_train_reais_simuladas_20 = np.concatenate([y_train_reais_unificado, y_train_simuladas_unificado[ceil(0.5*len(y_train_simuladas_unificado)):ceil(0.7*len(y_train_simuladas_unificado))]])\n",
    "y_test_reais_simuladas_20 = np.concatenate([y_test_reais_unificado, y_test_simuladas_unificado[ceil(0.5*len(y_test_simuladas_unificado)):ceil(0.7*len(y_test_simuladas_unificado))]])\n",
    "\n",
    "lstm_encoder = Sequential([\n",
    "    LSTM(32, return_sequences=True, input_shape=(X_train_reais_simuladas_20.shape[1], X_train_reais_simuladas_20.shape[2])),\n",
    "    Dropout(rate=0),\n",
    "    LSTM(16, return_sequences=False),\n",
    "    Dropout(rate=0),\n",
    "], name='encoder')\n",
    "lstm_decoder = Sequential([\n",
    "    RepeatVector(X_train_reais_unificado.shape[1]),\n",
    "    LSTM(16, return_sequences=True),\n",
    "    Dropout(rate=0),\n",
    "    LSTM(32, return_sequences=True),\n",
    "    Dropout(rate=0),\n",
    "    TimeDistributed(Dense(X_train_reais_simuladas_20.shape[2]))    \n",
    "], name='decoder')\n",
    "model_reais_simuladas_20 = Sequential([lstm_encoder, lstm_decoder])\n",
    "model_reais_simuladas_20.compile(optimizer=Adam(learning_rate=0.0001), loss='mae')\n",
    "history_reais_simuladas_20 = model_reais_simuladas_20.fit(X_train_reais_simuladas_20, X_train_reais_simuladas_20, epochs=100, batch_size=32, validation_split=0.4, verbose=0)\n",
    "\n",
    "# Gráfico de train e validation loss\n",
    "fig1, ax1 = plt.subplots()\n",
    "ax1.set_title(f'Training e Validation loss (somente reais)')\n",
    "ax1.plot(history_reais_simuladas_20.history['loss'], label=f'Training loss')\n",
    "ax1.plot(history_reais_simuladas_20.history['val_loss'], label=f'Validation loss')\n",
    "ax1.legend()\n",
    "plt.show()\n",
    "\n",
    "trainPredict = model_reais_simuladas_20.predict(X_train_reais_simuladas_20)\n",
    "trainMAE = np.mean(np.mean(np.abs(trainPredict - X_train_reais_simuladas_20), axis=1), axis=1)\n",
    "mean_trainMAE = np.mean(trainMAE)\n",
    "print(f'mean_trainMAE: {mean_trainMAE}')\n",
    "\n",
    "fig2, ax2 = plt.subplots()\n",
    "ax2.set_title(f'trainMAE')\n",
    "ax2.hist(trainMAE)\n",
    "plt.show()\n",
    "\n",
    "max_trainMAE = np.max(trainMAE)\n",
    "print(f'max_trainMAE: \\t {max_trainMAE}')\n",
    "\n",
    "testPredict = model_reais_simuladas_20.predict(X_test_reais_simuladas_20)\n",
    "testMAE = np.mean(np.mean(np.abs(testPredict - X_test_reais_simuladas_20), axis=1), axis=1)\n",
    "\n",
    "fig3, ax3 = plt.subplots()\n",
    "ax3.set_title(f'testMAE')\n",
    "#Para o histograma, todos os valores maiores que 10 setei como 10 para melhor visualização\n",
    "testMAE_visualizacao = testMAE\n",
    "testMAE_visualizacao[testMAE_visualizacao > 10] = 10\n",
    "ax3.hist(testMAE_visualizacao)\n",
    "plt.show()\n",
    "\n",
    "# Será considerada anomalia aquela observação cujo erro de reconstrução seja \n",
    "# acima de um valor especificado como gatilho (usado max_trainMAE)\n",
    "y_pred = pd.DataFrame((testMAE >= max_trainMAE)).replace({True:-1,False:1})\n",
    "\n",
    "# Calcula as metricas de desempenho\n",
    "p, r, f1, _ = precision_recall_fscore_support(y_test_reais_simuladas_20, y_pred, average='micro')\n",
    "print(f'\\nMEDIDA F1 Autoencoder (reais + 20% simuladas): {f1:.3f}\\n')\n",
    "\n",
    "# Testa o LOF nos melhores parametros calculados\n",
    "encoder = model_reais_simuladas_20.get_layer(\"encoder\")\n",
    "X_train_reais_simuladas_20_encoded = encoder.predict(X_train_reais_simuladas_20)\n",
    "X_test_reais_simuladas_20_encoded = encoder.predict(X_test_reais_simuladas_20)\n",
    "\n",
    "lof_clf_reais_simuladas_20 = LocalOutlierFactor(algorithm='auto', contamination='auto', \n",
    "                             metric='hamming', n_neighbors= 5, \n",
    "                             novelty= True)\n",
    "lof_clf_reais_simuladas_20.fit(X_train_reais_simuladas_20_encoded)\n",
    "y_pred = lof_clf_reais_simuladas_20.predict(X_test_reais_simuladas_20_encoded)\n",
    "p, r, f1, _ = precision_recall_fscore_support(y_test_reais_simuladas_20, y_pred, average='micro')\n",
    "print(f'\\nMEDIDA F1 LOF (reais + 20% simuladas): {f1:.3f}\\n')"
   ]
  },
  {
   "cell_type": "markdown",
   "id": "60509ed6",
   "metadata": {},
   "source": [
    "### Aplicação do classificador escolhido nas instâncias reais + demais simuladas (30%)"
   ]
  },
  {
   "cell_type": "code",
   "execution_count": 8,
   "id": "87186999",
   "metadata": {},
   "outputs": [
    {
     "data": {
      "image/png": "[encoded data removed]",
      "text/plain": [
       "<Figure size 432x288 with 1 Axes>"
      ]
     },
     "metadata": {
      "needs_background": "light"
     },
     "output_type": "display_data"
    },
    {
     "name": "stdout",
     "output_type": "stream",
     "text": [
      "mean_trainMAE: 0.2186453938484192\n"
     ]
    },
    {
     "data": {
      "image/png": "[encoded data removed]",
      "text/plain": [
       "<Figure size 432x288 with 1 Axes>"
      ]
     },
     "metadata": {
      "needs_background": "light"
     },
     "output_type": "display_data"
    },
    {
     "name": "stdout",
     "output_type": "stream",
     "text": [
      "max_trainMAE: \t 0.6951549649238586\n"
     ]
    },
    {
     "data": {
      "image/png": "[encoded data removed]",
      "text/plain": [
       "<Figure size 432x288 with 1 Axes>"
      ]
     },
     "metadata": {
      "needs_background": "light"
     },
     "output_type": "display_data"
    },
    {
     "name": "stdout",
     "output_type": "stream",
     "text": [
      "\n",
      "MEDIDA F1 Autoencoder (reais + 30% simuladas): 0.836\n",
      "\n",
      "\n",
      "MEDIDA F1 LOF (reais + 30% simuladas): 0.499\n",
      "\n"
     ]
    }
   ],
   "source": [
    "# Concatena reais mais 30% das demais instâncias simuladas\n",
    "X_train_reais_simuladas_30 = np.concatenate([X_train_reais_unificado, X_train_simuladas_unificado[ceil(0.5*len(X_train_simuladas_unificado)):ceil(0.8*len(X_train_simuladas_unificado)), :, :]])\n",
    "X_test_reais_simuladas_30 = np.concatenate([X_test_reais_unificado, X_test_simuladas_unificado[ceil(0.5*len(X_test_simuladas_unificado)):ceil(0.8*len(X_test_simuladas_unificado)), :, :]])\n",
    "y_train_reais_simuladas_30 = np.concatenate([y_train_reais_unificado, y_train_simuladas_unificado[ceil(0.5*len(y_train_simuladas_unificado)):ceil(0.8*len(y_train_simuladas_unificado))]])\n",
    "y_test_reais_simuladas_30 = np.concatenate([y_test_reais_unificado, y_test_simuladas_unificado[ceil(0.5*len(y_test_simuladas_unificado)):ceil(0.8*len(y_test_simuladas_unificado))]])\n",
    "\n",
    "lstm_encoder = Sequential([\n",
    "    LSTM(32, return_sequences=True, input_shape=(X_train_reais_simuladas_30.shape[1], X_train_reais_simuladas_30.shape[2])),\n",
    "    Dropout(rate=0),\n",
    "    LSTM(16, return_sequences=False),\n",
    "    Dropout(rate=0),\n",
    "], name='encoder')\n",
    "lstm_decoder = Sequential([\n",
    "    RepeatVector(X_train_reais_unificado.shape[1]),\n",
    "    LSTM(16, return_sequences=True),\n",
    "    Dropout(rate=0),\n",
    "    LSTM(32, return_sequences=True),\n",
    "    Dropout(rate=0),\n",
    "    TimeDistributed(Dense(X_train_reais_simuladas_30.shape[2]))    \n",
    "], name='decoder')\n",
    "model_reais_simuladas_30 = Sequential([lstm_encoder, lstm_decoder])\n",
    "model_reais_simuladas_30.compile(optimizer=Adam(learning_rate=0.0001), loss='mae')\n",
    "history_reais_simuladas_30 = model_reais_simuladas_30.fit(X_train_reais_simuladas_30, X_train_reais_simuladas_30, epochs=100, batch_size=32, validation_split=0.4, verbose=0)\n",
    "\n",
    "# Gráfico de train e validation loss\n",
    "fig1, ax1 = plt.subplots()\n",
    "ax1.set_title(f'Training e Validation loss (somente reais)')\n",
    "ax1.plot(history_reais_simuladas_30.history['loss'], label=f'Training loss')\n",
    "ax1.plot(history_reais_simuladas_30.history['val_loss'], label=f'Validation loss')\n",
    "ax1.legend()\n",
    "plt.show()\n",
    "\n",
    "trainPredict = model_reais_simuladas_30.predict(X_train_reais_simuladas_30)\n",
    "trainMAE = np.mean(np.mean(np.abs(trainPredict - X_train_reais_simuladas_30), axis=1), axis=1)\n",
    "mean_trainMAE = np.mean(trainMAE)\n",
    "print(f'mean_trainMAE: {mean_trainMAE}')\n",
    "\n",
    "fig2, ax2 = plt.subplots()\n",
    "ax2.set_title(f'trainMAE')\n",
    "ax2.hist(trainMAE)\n",
    "plt.show()\n",
    "\n",
    "max_trainMAE = np.max(trainMAE)\n",
    "print(f'max_trainMAE: \\t {max_trainMAE}')\n",
    "\n",
    "testPredict = model_reais_simuladas_30.predict(X_test_reais_simuladas_30)\n",
    "testMAE = np.mean(np.mean(np.abs(testPredict - X_test_reais_simuladas_30), axis=1), axis=1)\n",
    "\n",
    "fig3, ax3 = plt.subplots()\n",
    "ax3.set_title(f'testMAE')\n",
    "#Para o histograma, todos os valores maiores que 10 setei como 10 para melhor visualização\n",
    "testMAE_visualizacao = testMAE\n",
    "testMAE_visualizacao[testMAE_visualizacao > 10] = 10\n",
    "ax3.hist(testMAE_visualizacao)\n",
    "plt.show()\n",
    "\n",
    "# Será considerada anomalia aquela observação cujo erro de reconstrução seja \n",
    "# acima de um valor especificado como gatilho (usado max_trainMAE)\n",
    "y_pred = pd.DataFrame((testMAE >= max_trainMAE)).replace({True:-1,False:1})\n",
    "\n",
    "# Calcula as metricas de desempenho\n",
    "p, r, f1, _ = precision_recall_fscore_support(y_test_reais_simuladas_30, y_pred, average='micro')\n",
    "print(f'\\nMEDIDA F1 Autoencoder (reais + 30% simuladas): {f1:.3f}\\n')\n",
    "\n",
    "# Testa o LOF nos melhores parametros calculados\n",
    "encoder = model_reais_simuladas_30.get_layer(\"encoder\")\n",
    "X_train_reais_simuladas_30_encoded = encoder.predict(X_train_reais_simuladas_30)\n",
    "X_test_reais_simuladas_30_encoded = encoder.predict(X_test_reais_simuladas_30)\n",
    "\n",
    "lof_clf_reais_simuladas_30 = LocalOutlierFactor(algorithm='auto', contamination='auto', \n",
    "                             metric='hamming', n_neighbors= 5, \n",
    "                             novelty= True)\n",
    "lof_clf_reais_simuladas_30.fit(X_train_reais_simuladas_30_encoded)\n",
    "y_pred = lof_clf_reais_simuladas_30.predict(X_test_reais_simuladas_30_encoded)\n",
    "p, r, f1, _ = precision_recall_fscore_support(y_test_reais_simuladas_30, y_pred, average='micro')\n",
    "print(f'\\nMEDIDA F1 LOF (reais + 30% simuladas): {f1:.3f}\\n')"
   ]
  },
  {
   "cell_type": "markdown",
   "id": "6c2bf648",
   "metadata": {},
   "source": [
    "### Aplicação do classificador escolhido nas instâncias reais + demais simuladas (40%)"
   ]
  },
  {
   "cell_type": "code",
   "execution_count": 9,
   "id": "4126c9a6",
   "metadata": {},
   "outputs": [
    {
     "data": {
      "image/png": "[encoded data removed]",
      "text/plain": [
       "<Figure size 432x288 with 1 Axes>"
      ]
     },
     "metadata": {
      "needs_background": "light"
     },
     "output_type": "display_data"
    },
    {
     "name": "stdout",
     "output_type": "stream",
     "text": [
      "mean_trainMAE: 0.21429501473903656\n"
     ]
    },
    {
     "data": {
      "image/png": "[encoded data removed]",
      "text/plain": [
       "<Figure size 432x288 with 1 Axes>"
      ]
     },
     "metadata": {
      "needs_background": "light"
     },
     "output_type": "display_data"
    },
    {
     "name": "stdout",
     "output_type": "stream",
     "text": [
      "max_trainMAE: \t 0.8927129507064819\n"
     ]
    },
    {
     "data": {
      "image/png": "[encoded data removed]",
      "text/plain": [
       "<Figure size 432x288 with 1 Axes>"
      ]
     },
     "metadata": {
      "needs_background": "light"
     },
     "output_type": "display_data"
    },
    {
     "name": "stdout",
     "output_type": "stream",
     "text": [
      "\n",
      "MEDIDA F1 Autoencoder (reais + 40% simuladas): 0.890\n",
      "\n",
      "\n",
      "MEDIDA F1 LOF (reais + 40% simuladas): 0.497\n",
      "\n"
     ]
    }
   ],
   "source": [
    "# Concatena reais mais 40% das demais instâncias simuladas\n",
    "X_train_reais_simuladas_40 = np.concatenate([X_train_reais_unificado, X_train_simuladas_unificado[ceil(0.5*len(X_train_simuladas_unificado)):ceil(0.9*len(X_train_simuladas_unificado)), :, :]])\n",
    "X_test_reais_simuladas_40 = np.concatenate([X_test_reais_unificado, X_test_simuladas_unificado[ceil(0.5*len(X_test_simuladas_unificado)):ceil(0.9*len(X_test_simuladas_unificado)), :, :]])\n",
    "y_train_reais_simuladas_40 = np.concatenate([y_train_reais_unificado, y_train_simuladas_unificado[ceil(0.5*len(y_train_simuladas_unificado)):ceil(0.9*len(y_train_simuladas_unificado))]])\n",
    "y_test_reais_simuladas_40 = np.concatenate([y_test_reais_unificado, y_test_simuladas_unificado[ceil(0.5*len(y_test_simuladas_unificado)):ceil(0.9*len(y_test_simuladas_unificado))]])\n",
    "\n",
    "lstm_encoder = Sequential([\n",
    "    LSTM(32, return_sequences=True, input_shape=(X_train_reais_simuladas_40.shape[1], X_train_reais_simuladas_40.shape[2])),\n",
    "    Dropout(rate=0),\n",
    "    LSTM(16, return_sequences=False),\n",
    "    Dropout(rate=0),\n",
    "], name='encoder')\n",
    "lstm_decoder = Sequential([\n",
    "    RepeatVector(X_train_reais_unificado.shape[1]),\n",
    "    LSTM(16, return_sequences=True),\n",
    "    Dropout(rate=0),\n",
    "    LSTM(32, return_sequences=True),\n",
    "    Dropout(rate=0),\n",
    "    TimeDistributed(Dense(X_train_reais_simuladas_40.shape[2]))    \n",
    "], name='decoder')\n",
    "model_reais_simuladas_40 = Sequential([lstm_encoder, lstm_decoder])\n",
    "model_reais_simuladas_40.compile(optimizer=Adam(learning_rate=0.0001), loss='mae')\n",
    "history_reais_simuladas_40 = model_reais_simuladas_40.fit(X_train_reais_simuladas_40, X_train_reais_simuladas_40, epochs=100, batch_size=32, validation_split=0.4, verbose=0)\n",
    "\n",
    "# Gráfico de train e validation loss\n",
    "fig1, ax1 = plt.subplots()\n",
    "ax1.set_title(f'Training e Validation loss (somente reais)')\n",
    "ax1.plot(history_reais_simuladas_40.history['loss'], label=f'Training loss')\n",
    "ax1.plot(history_reais_simuladas_40.history['val_loss'], label=f'Validation loss')\n",
    "ax1.legend()\n",
    "plt.show()\n",
    "\n",
    "trainPredict = model_reais_simuladas_40.predict(X_train_reais_simuladas_40)\n",
    "trainMAE = np.mean(np.mean(np.abs(trainPredict - X_train_reais_simuladas_40), axis=1), axis=1)\n",
    "mean_trainMAE = np.mean(trainMAE)\n",
    "print(f'mean_trainMAE: {mean_trainMAE}')\n",
    "\n",
    "fig2, ax2 = plt.subplots()\n",
    "ax2.set_title(f'trainMAE')\n",
    "ax2.hist(trainMAE)\n",
    "plt.show()\n",
    "\n",
    "max_trainMAE = np.max(trainMAE)\n",
    "print(f'max_trainMAE: \\t {max_trainMAE}')\n",
    "\n",
    "testPredict = model_reais_simuladas_40.predict(X_test_reais_simuladas_40)\n",
    "testMAE = np.mean(np.mean(np.abs(testPredict - X_test_reais_simuladas_40), axis=1), axis=1)\n",
    "\n",
    "fig3, ax3 = plt.subplots()\n",
    "ax3.set_title(f'testMAE')\n",
    "#Para o histograma, todos os valores maiores que 10 setei como 10 para melhor visualização\n",
    "testMAE_visualizacao = testMAE\n",
    "testMAE_visualizacao[testMAE_visualizacao > 10] = 10\n",
    "ax3.hist(testMAE_visualizacao)\n",
    "plt.show()\n",
    "\n",
    "# Será considerada anomalia aquela observação cujo erro de reconstrução seja \n",
    "# acima de um valor especificado como gatilho (usado max_trainMAE)\n",
    "y_pred = pd.DataFrame((testMAE >= max_trainMAE)).replace({True:-1,False:1})\n",
    "\n",
    "# Calcula as metricas de desempenho\n",
    "p, r, f1, _ = precision_recall_fscore_support(y_test_reais_simuladas_40, y_pred, average='micro')\n",
    "print(f'\\nMEDIDA F1 Autoencoder (reais + 40% simuladas): {f1:.3f}\\n')\n",
    "\n",
    "# Testa o LOF nos melhores parametros calculados\n",
    "encoder = model_reais_simuladas_40.get_layer(\"encoder\")\n",
    "X_train_reais_simuladas_40_encoded = encoder.predict(X_train_reais_simuladas_40)\n",
    "X_test_reais_simuladas_40_encoded = encoder.predict(X_test_reais_simuladas_40)\n",
    "\n",
    "lof_clf_reais_simuladas_40 = LocalOutlierFactor(algorithm='auto', contamination='auto', \n",
    "                             metric='hamming', n_neighbors= 5, \n",
    "                             novelty= True)\n",
    "lof_clf_reais_simuladas_40.fit(X_train_reais_simuladas_40_encoded)\n",
    "y_pred = lof_clf_reais_simuladas_40.predict(X_test_reais_simuladas_40_encoded)\n",
    "p, r, f1, _ = precision_recall_fscore_support(y_test_reais_simuladas_40, y_pred, average='micro')\n",
    "print(f'\\nMEDIDA F1 LOF (reais + 40% simuladas): {f1:.3f}\\n')"
   ]
  },
  {
   "cell_type": "markdown",
   "id": "8f78db70",
   "metadata": {},
   "source": [
    "### Aplicação do classificador escolhido nas instâncias reais + demais simuladas (50%)"
   ]
  },
  {
   "cell_type": "code",
   "execution_count": 10,
   "id": "3e339dd7",
   "metadata": {},
   "outputs": [
    {
     "data": {
      "image/png": "[encoded data removed]",
      "text/plain": [
       "<Figure size 432x288 with 1 Axes>"
      ]
     },
     "metadata": {
      "needs_background": "light"
     },
     "output_type": "display_data"
    },
    {
     "name": "stdout",
     "output_type": "stream",
     "text": [
      "mean_trainMAE: 0.20623373985290527\n"
     ]
    },
    {
     "data": {
      "image/png": "[encoded data removed]",
      "text/plain": [
       "<Figure size 432x288 with 1 Axes>"
      ]
     },
     "metadata": {
      "needs_background": "light"
     },
     "output_type": "display_data"
    },
    {
     "name": "stdout",
     "output_type": "stream",
     "text": [
      "max_trainMAE: \t 0.7887290120124817\n"
     ]
    },
    {
     "data": {
      "image/png": "[encoded data removed]",
      "text/plain": [
       "<Figure size 432x288 with 1 Axes>"
      ]
     },
     "metadata": {
      "needs_background": "light"
     },
     "output_type": "display_data"
    },
    {
     "name": "stdout",
     "output_type": "stream",
     "text": [
      "\n",
      "MEDIDA F1 Autoencoder (reais + 50% simuladas): 0.866\n",
      "\n",
      "\n",
      "MEDIDA F1 LOF (reais + 50% simuladas): 0.493\n",
      "\n"
     ]
    }
   ],
   "source": [
    "# Concatena reais mais 50% das demais instâncias simuladas\n",
    "X_train_reais_simuladas_50 = np.concatenate([X_train_reais_unificado, X_train_simuladas_unificado[ceil(0.5*len(X_train_simuladas_unificado)):ceil(1.0*len(X_train_simuladas_unificado)), :, :]])\n",
    "X_test_reais_simuladas_50 = np.concatenate([X_test_reais_unificado, X_test_simuladas_unificado[ceil(0.5*len(X_test_simuladas_unificado)):ceil(1.0*len(X_test_simuladas_unificado)), :, :]])\n",
    "y_train_reais_simuladas_50 = np.concatenate([y_train_reais_unificado, y_train_simuladas_unificado[ceil(0.5*len(y_train_simuladas_unificado)):ceil(1.0*len(y_train_simuladas_unificado))]])\n",
    "y_test_reais_simuladas_50 = np.concatenate([y_test_reais_unificado, y_test_simuladas_unificado[ceil(0.5*len(y_test_simuladas_unificado)):ceil(1.0*len(y_test_simuladas_unificado))]])\n",
    "\n",
    "lstm_encoder = Sequential([\n",
    "    LSTM(32, return_sequences=True, input_shape=(X_train_reais_simuladas_50.shape[1], X_train_reais_simuladas_50.shape[2])),\n",
    "    Dropout(rate=0),\n",
    "    LSTM(16, return_sequences=False),\n",
    "    Dropout(rate=0),\n",
    "], name='encoder')\n",
    "lstm_decoder = Sequential([\n",
    "    RepeatVector(X_train_reais_unificado.shape[1]),\n",
    "    LSTM(16, return_sequences=True),\n",
    "    Dropout(rate=0),\n",
    "    LSTM(32, return_sequences=True),\n",
    "    Dropout(rate=0),\n",
    "    TimeDistributed(Dense(X_train_reais_simuladas_50.shape[2]))    \n",
    "], name='decoder')\n",
    "model_reais_simuladas_50 = Sequential([lstm_encoder, lstm_decoder])\n",
    "model_reais_simuladas_50.compile(optimizer=Adam(learning_rate=0.0001), loss='mae')\n",
    "history_reais_simuladas_50 = model_reais_simuladas_50.fit(X_train_reais_simuladas_50, X_train_reais_simuladas_50, epochs=100, batch_size=32, validation_split=0.4, verbose=0)\n",
    "\n",
    "# Gráfico de train e validation loss\n",
    "fig1, ax1 = plt.subplots()\n",
    "ax1.set_title(f'Training e Validation loss (somente reais)')\n",
    "ax1.plot(history_reais_simuladas_50.history['loss'], label=f'Training loss')\n",
    "ax1.plot(history_reais_simuladas_50.history['val_loss'], label=f'Validation loss')\n",
    "ax1.legend()\n",
    "plt.show()\n",
    "\n",
    "trainPredict = model_reais_simuladas_50.predict(X_train_reais_simuladas_50)\n",
    "trainMAE = np.mean(np.mean(np.abs(trainPredict - X_train_reais_simuladas_50), axis=1), axis=1)\n",
    "mean_trainMAE = np.mean(trainMAE)\n",
    "print(f'mean_trainMAE: {mean_trainMAE}')\n",
    "\n",
    "fig2, ax2 = plt.subplots()\n",
    "ax2.set_title(f'trainMAE')\n",
    "ax2.hist(trainMAE)\n",
    "plt.show()\n",
    "\n",
    "max_trainMAE = np.max(trainMAE)\n",
    "print(f'max_trainMAE: \\t {max_trainMAE}')\n",
    "\n",
    "testPredict = model_reais_simuladas_50.predict(X_test_reais_simuladas_50)\n",
    "testMAE = np.mean(np.mean(np.abs(testPredict - X_test_reais_simuladas_50), axis=1), axis=1)\n",
    "\n",
    "fig3, ax3 = plt.subplots()\n",
    "ax3.set_title(f'testMAE')\n",
    "#Para o histograma, todos os valores maiores que 10 setei como 10 para melhor visualização\n",
    "testMAE_visualizacao = testMAE\n",
    "testMAE_visualizacao[testMAE_visualizacao > 10] = 10\n",
    "ax3.hist(testMAE_visualizacao)\n",
    "plt.show()\n",
    "\n",
    "# Será considerada anomalia aquela observação cujo erro de reconstrução seja \n",
    "# acima de um valor especificado como gatilho (usado max_trainMAE)\n",
    "y_pred = pd.DataFrame((testMAE >= max_trainMAE)).replace({True:-1,False:1})\n",
    "\n",
    "# Calcula as metricas de desempenho\n",
    "p, r, f1, _ = precision_recall_fscore_support(y_test_reais_simuladas_50, y_pred, average='micro')\n",
    "print(f'\\nMEDIDA F1 Autoencoder (reais + 50% simuladas): {f1:.3f}\\n')\n",
    "\n",
    "# Testa o LOF nos melhores parametros calculados\n",
    "encoder = model_reais_simuladas_50.get_layer(\"encoder\")\n",
    "X_train_reais_simuladas_50_encoded = encoder.predict(X_train_reais_simuladas_50)\n",
    "X_test_reais_simuladas_50_encoded = encoder.predict(X_test_reais_simuladas_50)\n",
    "\n",
    "lof_clf_reais_simuladas_50 = LocalOutlierFactor(algorithm='auto', contamination='auto', \n",
    "                             metric='hamming', n_neighbors= 5, \n",
    "                             novelty= True)\n",
    "lof_clf_reais_simuladas_50.fit(X_train_reais_simuladas_50_encoded)\n",
    "y_pred = lof_clf_reais_simuladas_50.predict(X_test_reais_simuladas_50_encoded)\n",
    "p, r, f1, _ = precision_recall_fscore_support(y_test_reais_simuladas_50, y_pred, average='micro')\n",
    "print(f'\\nMEDIDA F1 LOF (reais + 50% simuladas): {f1:.3f}\\n')"
   ]
  },
  {
   "cell_type": "code",
   "execution_count": 11,
   "id": "1e9f3981-c94f-4279-b002-46099ead52d7",
   "metadata": {},
   "outputs": [
    {
     "name": "stdout",
     "output_type": "stream",
     "text": [
      "Tempo total de execução (hh:mm:ss.ms): 0:42:28.832859\n"
     ]
    }
   ],
   "source": [
    "# Calcular tempo total do notebook Jupyter\n",
    "print(f'Tempo total de execução (hh:mm:ss.ms): {datetime.now() - start_time}')"
   ]
  }
 ],
 "metadata": {
  "kernelspec": {
   "display_name": "Python 3 (ipykernel)",
   "language": "python",
   "name": "python3"
  },
  "language_info": {
   "codemirror_mode": {
    "name": "ipython",
    "version": 3
   },
   "file_extension": ".py",
   "mimetype": "text/x-python",
   "name": "python",
   "nbconvert_exporter": "python",
   "pygments_lexer": "ipython3",
   "version": "3.8.11"
  }
 },
 "nbformat": 4,
 "nbformat_minor": 5
}
