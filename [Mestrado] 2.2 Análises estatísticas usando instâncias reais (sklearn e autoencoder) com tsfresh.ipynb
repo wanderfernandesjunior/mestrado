{
 "cells": [
  {
   "cell_type": "markdown",
   "metadata": {},
   "source": [
    "## [Mestrado] 2.2 Análises estatísticas usando instâncias reais (sklearn e autoencoder) com tsfresh"
   ]
  },
  {
   "cell_type": "markdown",
   "metadata": {},
   "source": [
    "## Bibliotecas e configurações"
   ]
  },
  {
   "cell_type": "code",
   "execution_count": 1,
   "metadata": {
    "scrolled": true
   },
   "outputs": [],
   "source": [
    "# Artifício para alcular tempo total do notebook Jupyter\n",
    "from datetime import datetime \n",
    "start_time = datetime.now()"
   ]
  },
  {
   "cell_type": "code",
   "execution_count": 2,
   "metadata": {
    "scrolled": true,
    "variables": {
     "import datetime;import locale;locale.setlocale(locale.LC_ALL, 'portuguese_brazil');datetime.date.today().strftime('%d de %B de %Y')": "05 de agosto de 2018"
    }
   },
   "outputs": [],
   "source": [
    "import pandas as pd\n",
    "import numpy as np\n",
    "import scikit_posthocs as sp\n",
    "from scipy.stats import friedmanchisquare\n",
    "import warnings\n",
    "warnings.filterwarnings(\"ignore\")"
   ]
  },
  {
   "cell_type": "markdown",
   "metadata": {},
   "source": [
    "A banca de qualificação solicitou que os testes sejam pareados entre si."
   ]
  },
  {
   "cell_type": "code",
   "execution_count": 3,
   "metadata": {},
   "outputs": [
    {
     "data": {
      "text/html": [
       "<div>\n",
       "<style scoped>\n",
       "    .dataframe tbody tr th:only-of-type {\n",
       "        vertical-align: middle;\n",
       "    }\n",
       "\n",
       "    .dataframe tbody tr th {\n",
       "        vertical-align: top;\n",
       "    }\n",
       "\n",
       "    .dataframe thead th {\n",
       "        text-align: right;\n",
       "    }\n",
       "</style>\n",
       "<table border=\"1\" class=\"dataframe\">\n",
       "  <thead>\n",
       "    <tr style=\"text-align: right;\">\n",
       "      <th></th>\n",
       "      <th>PRECISAO</th>\n",
       "      <th>REVOGACAO</th>\n",
       "      <th>F1</th>\n",
       "      <th>TREINAMENTO [s]</th>\n",
       "      <th>TESTE [s]</th>\n",
       "    </tr>\n",
       "    <tr>\n",
       "      <th>CLASSIFICADOR</th>\n",
       "      <th></th>\n",
       "      <th></th>\n",
       "      <th></th>\n",
       "      <th></th>\n",
       "      <th></th>\n",
       "    </tr>\n",
       "  </thead>\n",
       "  <tbody>\n",
       "    <tr>\n",
       "      <th>Local Outlier Factor</th>\n",
       "      <td>0.870370</td>\n",
       "      <td>0.870370</td>\n",
       "      <td>0.870370</td>\n",
       "      <td>0.001306</td>\n",
       "      <td>0.001302</td>\n",
       "    </tr>\n",
       "    <tr>\n",
       "      <th>Floresta de Isolamento (benchmark Vargas)</th>\n",
       "      <td>0.722222</td>\n",
       "      <td>0.722222</td>\n",
       "      <td>0.722222</td>\n",
       "      <td>0.144691</td>\n",
       "      <td>0.031334</td>\n",
       "    </tr>\n",
       "    <tr>\n",
       "      <th>Floresta de Isolamento</th>\n",
       "      <td>0.701389</td>\n",
       "      <td>0.701389</td>\n",
       "      <td>0.701389</td>\n",
       "      <td>0.285244</td>\n",
       "      <td>0.061137</td>\n",
       "    </tr>\n",
       "    <tr>\n",
       "      <th>AutoEncoder</th>\n",
       "      <td>0.590278</td>\n",
       "      <td>0.590278</td>\n",
       "      <td>0.590278</td>\n",
       "      <td>1.441114</td>\n",
       "      <td>0.045269</td>\n",
       "    </tr>\n",
       "    <tr>\n",
       "      <th>Envelope Eliptico MCD</th>\n",
       "      <td>0.585648</td>\n",
       "      <td>0.585648</td>\n",
       "      <td>0.585648</td>\n",
       "      <td>0.070265</td>\n",
       "      <td>0.001199</td>\n",
       "    </tr>\n",
       "    <tr>\n",
       "      <th>Dummy</th>\n",
       "      <td>0.500000</td>\n",
       "      <td>0.500000</td>\n",
       "      <td>0.500000</td>\n",
       "      <td>0.000111</td>\n",
       "      <td>0.000083</td>\n",
       "    </tr>\n",
       "    <tr>\n",
       "      <th>One Class SVM (benchmark Vargas)</th>\n",
       "      <td>0.486111</td>\n",
       "      <td>0.486111</td>\n",
       "      <td>0.486111</td>\n",
       "      <td>0.001141</td>\n",
       "      <td>0.000944</td>\n",
       "    </tr>\n",
       "    <tr>\n",
       "      <th>One Class SVM</th>\n",
       "      <td>0.476852</td>\n",
       "      <td>0.476852</td>\n",
       "      <td>0.476852</td>\n",
       "      <td>0.001190</td>\n",
       "      <td>0.000916</td>\n",
       "    </tr>\n",
       "  </tbody>\n",
       "</table>\n",
       "</div>"
      ],
      "text/plain": [
       "                                           PRECISAO  REVOGACAO        F1  \\\n",
       "CLASSIFICADOR                                                              \n",
       "Local Outlier Factor                       0.870370   0.870370  0.870370   \n",
       "Floresta de Isolamento (benchmark Vargas)  0.722222   0.722222  0.722222   \n",
       "Floresta de Isolamento                     0.701389   0.701389  0.701389   \n",
       "AutoEncoder                                0.590278   0.590278  0.590278   \n",
       "Envelope Eliptico MCD                      0.585648   0.585648  0.585648   \n",
       "Dummy                                      0.500000   0.500000  0.500000   \n",
       "One Class SVM (benchmark Vargas)           0.486111   0.486111  0.486111   \n",
       "One Class SVM                              0.476852   0.476852  0.476852   \n",
       "\n",
       "                                           TREINAMENTO [s]  TESTE [s]   \n",
       "CLASSIFICADOR                                                           \n",
       "Local Outlier Factor                              0.001306    0.001302  \n",
       "Floresta de Isolamento (benchmark Vargas)         0.144691    0.031334  \n",
       "Floresta de Isolamento                            0.285244    0.061137  \n",
       "AutoEncoder                                       1.441114    0.045269  \n",
       "Envelope Eliptico MCD                             0.070265    0.001199  \n",
       "Dummy                                             0.000111    0.000083  \n",
       "One Class SVM (benchmark Vargas)                  0.001141    0.000944  \n",
       "One Class SVM                                     0.001190    0.000916  "
      ]
     },
     "execution_count": 3,
     "metadata": {},
     "output_type": "execute_result"
    }
   ],
   "source": [
    "# Médias classificadores Sklearn\n",
    "sklearn_scores = pd.read_csv(r'./results/2-0_anomaly_detection_scores_reais.csv', index_col=0)\n",
    "\n",
    "# Médias classificadores Autoencoder\n",
    "autoencoder_scores = pd.read_csv(r'./results/2-1_anomaly_detection_scores_reais.csv', index_col=0)\n",
    "\n",
    "# Agrupa todos os resultados\n",
    "scores = pd.concat([sklearn_scores, autoencoder_scores])\n",
    "\n",
    "mean_score_table = scores.groupby('CLASSIFICADOR').mean().sort_values(by=['F1'], ascending=False)\n",
    "mean_score_table"
   ]
  },
  {
   "cell_type": "code",
   "execution_count": 4,
   "metadata": {
    "scrolled": true
   },
   "outputs": [
    {
     "data": {
      "text/plain": [
       "['Local Outlier Factor',\n",
       " 'Floresta de Isolamento (benchmark Vargas)',\n",
       " 'Floresta de Isolamento',\n",
       " 'AutoEncoder',\n",
       " 'Envelope Eliptico MCD',\n",
       " 'Dummy',\n",
       " 'One Class SVM (benchmark Vargas)',\n",
       " 'One Class SVM']"
      ]
     },
     "execution_count": 4,
     "metadata": {},
     "output_type": "execute_result"
    }
   ],
   "source": [
    "clfs_names = list(mean_score_table.index)\n",
    "f1s = [scores.loc[scores['CLASSIFICADOR']==cn, 'F1'].values for cn in clfs_names]\n",
    "clfs_names"
   ]
  },
  {
   "cell_type": "code",
   "execution_count": 5,
   "metadata": {},
   "outputs": [
    {
     "name": "stdout",
     "output_type": "stream",
     "text": [
      "p_value: 2.4323213649592804e-20\n"
     ]
    }
   ],
   "source": [
    "# Teste Estatístico (Friedman)\n",
    "\n",
    "stat, p_value = friedmanchisquare(*(f1s))\n",
    "print(f'p_value: {p_value}')"
   ]
  },
  {
   "cell_type": "code",
   "execution_count": 6,
   "metadata": {},
   "outputs": [],
   "source": [
    "# Teste Estatístico (Wilcoxon)\n",
    "\n",
    "p_values = sp.posthoc_wilcoxon(f1s, \n",
    "                                 val_col=None, \n",
    "                                 group_col=None, \n",
    "                                 zero_method='wilcox', \n",
    "                                 correction=False, \n",
    "                                 p_adjust='bonferroni', \n",
    "                                 sort=False)\n",
    "\n",
    "p_values.columns = clfs_names\n",
    "p_values.index = clfs_names"
   ]
  },
  {
   "cell_type": "code",
   "execution_count": 7,
   "metadata": {},
   "outputs": [
    {
     "data": {
      "text/html": [
       "<style type=\"text/css\">\n",
       "#T_2050c_ caption {\n",
       "  color: black;\n",
       "  text-align: center;\n",
       "  font-size: 16px;\n",
       "}\n",
       "#T_2050c_row0_col0, #T_2050c_row1_col1, #T_2050c_row1_col2, #T_2050c_row2_col1, #T_2050c_row2_col2, #T_2050c_row2_col3, #T_2050c_row2_col4, #T_2050c_row3_col2, #T_2050c_row3_col3, #T_2050c_row3_col4, #T_2050c_row3_col5, #T_2050c_row3_col6, #T_2050c_row3_col7, #T_2050c_row4_col2, #T_2050c_row4_col3, #T_2050c_row4_col4, #T_2050c_row4_col6, #T_2050c_row4_col7, #T_2050c_row5_col3, #T_2050c_row5_col5, #T_2050c_row5_col6, #T_2050c_row5_col7, #T_2050c_row6_col3, #T_2050c_row6_col4, #T_2050c_row6_col5, #T_2050c_row6_col6, #T_2050c_row6_col7, #T_2050c_row7_col3, #T_2050c_row7_col4, #T_2050c_row7_col5, #T_2050c_row7_col6, #T_2050c_row7_col7 {\n",
       "  width: 10em;\n",
       "  text-align: center;\n",
       "  color: gray;\n",
       "}\n",
       "#T_2050c_row0_col1, #T_2050c_row0_col2, #T_2050c_row0_col3, #T_2050c_row0_col4, #T_2050c_row0_col5, #T_2050c_row0_col6, #T_2050c_row0_col7, #T_2050c_row1_col0, #T_2050c_row1_col3, #T_2050c_row1_col4, #T_2050c_row1_col5, #T_2050c_row1_col6, #T_2050c_row1_col7, #T_2050c_row2_col0, #T_2050c_row2_col5, #T_2050c_row2_col6, #T_2050c_row2_col7, #T_2050c_row3_col0, #T_2050c_row3_col1, #T_2050c_row4_col0, #T_2050c_row4_col1, #T_2050c_row4_col5, #T_2050c_row5_col0, #T_2050c_row5_col1, #T_2050c_row5_col2, #T_2050c_row5_col4, #T_2050c_row6_col0, #T_2050c_row6_col1, #T_2050c_row6_col2, #T_2050c_row7_col0, #T_2050c_row7_col1, #T_2050c_row7_col2 {\n",
       "  width: 10em;\n",
       "  text-align: center;\n",
       "  color: green;\n",
       "}\n",
       "</style>\n",
       "<table id=\"T_2050c_\">\n",
       "  <caption>Valores p dos testes estatísticos Wilcoxon com ajuste de Bonferroni</caption>\n",
       "  <thead>\n",
       "    <tr>\n",
       "      <th class=\"blank level0\" >&nbsp;</th>\n",
       "      <th class=\"col_heading level0 col0\" >Local Outlier Factor</th>\n",
       "      <th class=\"col_heading level0 col1\" >Floresta de Isolamento (benchmark Vargas)</th>\n",
       "      <th class=\"col_heading level0 col2\" >Floresta de Isolamento</th>\n",
       "      <th class=\"col_heading level0 col3\" >AutoEncoder</th>\n",
       "      <th class=\"col_heading level0 col4\" >Envelope Eliptico MCD</th>\n",
       "      <th class=\"col_heading level0 col5\" >Dummy</th>\n",
       "      <th class=\"col_heading level0 col6\" >One Class SVM (benchmark Vargas)</th>\n",
       "      <th class=\"col_heading level0 col7\" >One Class SVM</th>\n",
       "    </tr>\n",
       "  </thead>\n",
       "  <tbody>\n",
       "    <tr>\n",
       "      <th id=\"T_2050c_level0_row0\" class=\"row_heading level0 row0\" >Local Outlier Factor</th>\n",
       "      <td id=\"T_2050c_row0_col0\" class=\"data row0 col0\" >1.000000</td>\n",
       "      <td id=\"T_2050c_row0_col1\" class=\"data row0 col1\" >0.006755</td>\n",
       "      <td id=\"T_2050c_row0_col2\" class=\"data row0 col2\" >0.000306</td>\n",
       "      <td id=\"T_2050c_row0_col3\" class=\"data row0 col3\" >0.000006</td>\n",
       "      <td id=\"T_2050c_row0_col4\" class=\"data row0 col4\" >0.000020</td>\n",
       "      <td id=\"T_2050c_row0_col5\" class=\"data row0 col5\" >0.000005</td>\n",
       "      <td id=\"T_2050c_row0_col6\" class=\"data row0 col6\" >0.000018</td>\n",
       "      <td id=\"T_2050c_row0_col7\" class=\"data row0 col7\" >0.000024</td>\n",
       "    </tr>\n",
       "    <tr>\n",
       "      <th id=\"T_2050c_level0_row1\" class=\"row_heading level0 row1\" >Floresta de Isolamento (benchmark Vargas)</th>\n",
       "      <td id=\"T_2050c_row1_col0\" class=\"data row1 col0\" >0.006755</td>\n",
       "      <td id=\"T_2050c_row1_col1\" class=\"data row1 col1\" >1.000000</td>\n",
       "      <td id=\"T_2050c_row1_col2\" class=\"data row1 col2\" >1.000000</td>\n",
       "      <td id=\"T_2050c_row1_col3\" class=\"data row1 col3\" >0.007872</td>\n",
       "      <td id=\"T_2050c_row1_col4\" class=\"data row1 col4\" >0.010399</td>\n",
       "      <td id=\"T_2050c_row1_col5\" class=\"data row1 col5\" >0.000127</td>\n",
       "      <td id=\"T_2050c_row1_col6\" class=\"data row1 col6\" >0.006883</td>\n",
       "      <td id=\"T_2050c_row1_col7\" class=\"data row1 col7\" >0.010787</td>\n",
       "    </tr>\n",
       "    <tr>\n",
       "      <th id=\"T_2050c_level0_row2\" class=\"row_heading level0 row2\" >Floresta de Isolamento</th>\n",
       "      <td id=\"T_2050c_row2_col0\" class=\"data row2 col0\" >0.000306</td>\n",
       "      <td id=\"T_2050c_row2_col1\" class=\"data row2 col1\" >1.000000</td>\n",
       "      <td id=\"T_2050c_row2_col2\" class=\"data row2 col2\" >1.000000</td>\n",
       "      <td id=\"T_2050c_row2_col3\" class=\"data row2 col3\" >0.065352</td>\n",
       "      <td id=\"T_2050c_row2_col4\" class=\"data row2 col4\" >0.056257</td>\n",
       "      <td id=\"T_2050c_row2_col5\" class=\"data row2 col5\" >0.000218</td>\n",
       "      <td id=\"T_2050c_row2_col6\" class=\"data row2 col6\" >0.010718</td>\n",
       "      <td id=\"T_2050c_row2_col7\" class=\"data row2 col7\" >0.007326</td>\n",
       "    </tr>\n",
       "    <tr>\n",
       "      <th id=\"T_2050c_level0_row3\" class=\"row_heading level0 row3\" >AutoEncoder</th>\n",
       "      <td id=\"T_2050c_row3_col0\" class=\"data row3 col0\" >0.000006</td>\n",
       "      <td id=\"T_2050c_row3_col1\" class=\"data row3 col1\" >0.007872</td>\n",
       "      <td id=\"T_2050c_row3_col2\" class=\"data row3 col2\" >0.065352</td>\n",
       "      <td id=\"T_2050c_row3_col3\" class=\"data row3 col3\" >1.000000</td>\n",
       "      <td id=\"T_2050c_row3_col4\" class=\"data row3 col4\" >1.000000</td>\n",
       "      <td id=\"T_2050c_row3_col5\" class=\"data row3 col5\" >0.112747</td>\n",
       "      <td id=\"T_2050c_row3_col6\" class=\"data row3 col6\" >1.000000</td>\n",
       "      <td id=\"T_2050c_row3_col7\" class=\"data row3 col7\" >1.000000</td>\n",
       "    </tr>\n",
       "    <tr>\n",
       "      <th id=\"T_2050c_level0_row4\" class=\"row_heading level0 row4\" >Envelope Eliptico MCD</th>\n",
       "      <td id=\"T_2050c_row4_col0\" class=\"data row4 col0\" >0.000020</td>\n",
       "      <td id=\"T_2050c_row4_col1\" class=\"data row4 col1\" >0.010399</td>\n",
       "      <td id=\"T_2050c_row4_col2\" class=\"data row4 col2\" >0.056257</td>\n",
       "      <td id=\"T_2050c_row4_col3\" class=\"data row4 col3\" >1.000000</td>\n",
       "      <td id=\"T_2050c_row4_col4\" class=\"data row4 col4\" >1.000000</td>\n",
       "      <td id=\"T_2050c_row4_col5\" class=\"data row4 col5\" >0.039093</td>\n",
       "      <td id=\"T_2050c_row4_col6\" class=\"data row4 col6\" >1.000000</td>\n",
       "      <td id=\"T_2050c_row4_col7\" class=\"data row4 col7\" >1.000000</td>\n",
       "    </tr>\n",
       "    <tr>\n",
       "      <th id=\"T_2050c_level0_row5\" class=\"row_heading level0 row5\" >Dummy</th>\n",
       "      <td id=\"T_2050c_row5_col0\" class=\"data row5 col0\" >0.000005</td>\n",
       "      <td id=\"T_2050c_row5_col1\" class=\"data row5 col1\" >0.000127</td>\n",
       "      <td id=\"T_2050c_row5_col2\" class=\"data row5 col2\" >0.000218</td>\n",
       "      <td id=\"T_2050c_row5_col3\" class=\"data row5 col3\" >0.112747</td>\n",
       "      <td id=\"T_2050c_row5_col4\" class=\"data row5 col4\" >0.039093</td>\n",
       "      <td id=\"T_2050c_row5_col5\" class=\"data row5 col5\" >1.000000</td>\n",
       "      <td id=\"T_2050c_row5_col6\" class=\"data row5 col6\" >1.000000</td>\n",
       "      <td id=\"T_2050c_row5_col7\" class=\"data row5 col7\" >1.000000</td>\n",
       "    </tr>\n",
       "    <tr>\n",
       "      <th id=\"T_2050c_level0_row6\" class=\"row_heading level0 row6\" >One Class SVM (benchmark Vargas)</th>\n",
       "      <td id=\"T_2050c_row6_col0\" class=\"data row6 col0\" >0.000018</td>\n",
       "      <td id=\"T_2050c_row6_col1\" class=\"data row6 col1\" >0.006883</td>\n",
       "      <td id=\"T_2050c_row6_col2\" class=\"data row6 col2\" >0.010718</td>\n",
       "      <td id=\"T_2050c_row6_col3\" class=\"data row6 col3\" >1.000000</td>\n",
       "      <td id=\"T_2050c_row6_col4\" class=\"data row6 col4\" >1.000000</td>\n",
       "      <td id=\"T_2050c_row6_col5\" class=\"data row6 col5\" >1.000000</td>\n",
       "      <td id=\"T_2050c_row6_col6\" class=\"data row6 col6\" >1.000000</td>\n",
       "      <td id=\"T_2050c_row6_col7\" class=\"data row6 col7\" >1.000000</td>\n",
       "    </tr>\n",
       "    <tr>\n",
       "      <th id=\"T_2050c_level0_row7\" class=\"row_heading level0 row7\" >One Class SVM</th>\n",
       "      <td id=\"T_2050c_row7_col0\" class=\"data row7 col0\" >0.000024</td>\n",
       "      <td id=\"T_2050c_row7_col1\" class=\"data row7 col1\" >0.010787</td>\n",
       "      <td id=\"T_2050c_row7_col2\" class=\"data row7 col2\" >0.007326</td>\n",
       "      <td id=\"T_2050c_row7_col3\" class=\"data row7 col3\" >1.000000</td>\n",
       "      <td id=\"T_2050c_row7_col4\" class=\"data row7 col4\" >1.000000</td>\n",
       "      <td id=\"T_2050c_row7_col5\" class=\"data row7 col5\" >1.000000</td>\n",
       "      <td id=\"T_2050c_row7_col6\" class=\"data row7 col6\" >1.000000</td>\n",
       "      <td id=\"T_2050c_row7_col7\" class=\"data row7 col7\" >1.000000</td>\n",
       "    </tr>\n",
       "  </tbody>\n",
       "</table>\n"
      ],
      "text/plain": [
       "<pandas.io.formats.style.Styler at 0x198ff6e09d0>"
      ]
     },
     "execution_count": 7,
     "metadata": {},
     "output_type": "execute_result"
    }
   ],
   "source": [
    "df = pd.DataFrame(p_values)\n",
    "\n",
    "d = dict(selector=\"th\",\n",
    "    props=[('text-align', 'center')])\n",
    "\n",
    "df.style.set_properties(**{'width':'10em', 'text-align':'center'})\\\n",
    "        .set_table_styles([d])\\\n",
    "        .applymap(lambda x: 'color: green' if  x != '-' and x <= 0.05 and x > -1 else 'color: gray')\\\n",
    "        .set_caption(\"Valores p dos testes estatísticos Wilcoxon com ajuste de Bonferroni\").set_table_styles([{\n",
    "            'selector': 'caption',\n",
    "            'props': [\n",
    "                ('color', 'black'),\n",
    "                ('text-align', 'center'),\n",
    "                ('font-size', '16px')\n",
    "            ]\n",
    "        }])"
   ]
  },
  {
   "cell_type": "markdown",
   "metadata": {},
   "source": [
    "## Conclusões"
   ]
  },
  {
   "cell_type": "markdown",
   "metadata": {},
   "source": [
    "Tendo em vista os resultados apresentados acima, podemos afirmar que o classificador \"LOF\" apresenta o melhor desempenho em termos de médias da métrica medida-F1.\n",
    "\n",
    " - O classificador \"LOF\" produz um valor médio de medida-F1 estatisticamente diferente em comparação a todos os demais classificadores."
   ]
  },
  {
   "cell_type": "code",
   "execution_count": 8,
   "metadata": {
    "scrolled": true
   },
   "outputs": [
    {
     "name": "stdout",
     "output_type": "stream",
     "text": [
      "Tempo total de execução (hh:mm:ss.ms): 0:00:01.846312\n"
     ]
    }
   ],
   "source": [
    "# Calcular tempo total do notebook Jupyter\n",
    "print(f'Tempo total de execução (hh:mm:ss.ms): {datetime.now() - start_time}')"
   ]
  }
 ],
 "metadata": {
  "kernelspec": {
   "display_name": "Python 3 (ipykernel)",
   "language": "python",
   "name": "python3"
  },
  "language_info": {
   "codemirror_mode": {
    "name": "ipython",
    "version": 3
   },
   "file_extension": ".py",
   "mimetype": "text/x-python",
   "name": "python",
   "nbconvert_exporter": "python",
   "pygments_lexer": "ipython3",
   "version": "3.8.11"
  },
  "toc": {
   "base_numbering": 1,
   "nav_menu": {},
   "number_sections": false,
   "sideBar": true,
   "skip_h1_title": false,
   "title_cell": "Sumário",
   "title_sidebar": "Sumário",
   "toc_cell": false,
   "toc_position": {
    "height": "calc(100% - 180px)",
    "left": "10px",
    "top": "150px",
    "width": "165px"
   },
   "toc_section_display": true,
   "toc_window_display": false
  }
 },
 "nbformat": 4,
 "nbformat_minor": 4
}
